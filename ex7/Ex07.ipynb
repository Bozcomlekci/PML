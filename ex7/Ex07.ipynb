{
 "cells": [
  {
   "cell_type": "markdown",
   "metadata": {},
   "source": [
    "# Probabilistic Machine Learning\n",
    "<div style=\"text-align: right\"> University of Tübingen, Summer Term 2023  &copy; 2023 P. Hennig </div>\n",
    "\n",
    "## Exercise Sheet No. 7 — Online Gaussian Process Regression\n",
    "\n",
    "---\n",
    "\n",
    "Submission by:\n",
    "* FirstName1, Surname1, Matrikelnummer: MatrikelnummerOfFirstTeamMember\n",
    "* FirstName2, Surname2, Matrikelnummer: MatrikelnummerOfSecondTeamMember"
   ]
  },
  {
   "cell_type": "code",
   "execution_count": 7,
   "metadata": {
    "execution": {
     "iopub.execute_input": "2023-06-06T09:59:12.700942Z",
     "iopub.status.busy": "2023-06-06T09:59:12.700050Z",
     "iopub.status.idle": "2023-06-06T09:59:14.800229Z",
     "shell.execute_reply": "2023-06-06T09:59:14.799962Z",
     "shell.execute_reply.started": "2023-06-06T09:59:12.700912Z"
    }
   },
   "outputs": [],
   "source": [
    "# For measuring wallclock time\n",
    "from time import time\n",
    "\n",
    "# Numpy, JAX\n",
    "import jax\n",
    "import jax.numpy as jnp\n",
    "import numpy as np\n",
    "jax.config.update(\"jax_enable_x64\", True)  # use double-precision numbers"
   ]
  },
  {
   "cell_type": "code",
   "execution_count": 8,
   "metadata": {
    "execution": {
     "iopub.execute_input": "2023-06-06T09:59:16.015411Z",
     "iopub.status.busy": "2023-06-06T09:59:16.014835Z",
     "iopub.status.idle": "2023-06-06T09:59:16.038251Z",
     "shell.execute_reply": "2023-06-06T09:59:16.037531Z",
     "shell.execute_reply.started": "2023-06-06T09:59:16.015384Z"
    }
   },
   "outputs": [],
   "source": [
    "# Plotting\n",
    "from matplotlib import pyplot as plt\n",
    "from tueplots import bundles\n",
    "\n",
    "%config InlineBackend.figure_formats = [\"png\"]\n",
    "%matplotlib inline\n",
    "plt.rcParams.update(bundles.neurips2023())"
   ]
  },
  {
   "cell_type": "code",
   "execution_count": 9,
   "metadata": {
    "execution": {
     "iopub.execute_input": "2023-06-06T09:59:16.735093Z",
     "iopub.status.busy": "2023-06-06T09:59:16.734504Z",
     "iopub.status.idle": "2023-06-06T09:59:16.748729Z",
     "shell.execute_reply": "2023-06-06T09:59:16.747790Z",
     "shell.execute_reply.started": "2023-06-06T09:59:16.735062Z"
    }
   },
   "outputs": [],
   "source": [
    "# Import `gaussians.py`\n",
    "import gaussians"
   ]
  },
  {
   "cell_type": "markdown",
   "metadata": {},
   "source": [
    "### 0. Overview\n",
    "\n",
    "In this exercise sheet, we are going to implement Gaussian Process (GP) regression in an *online* setting. That means, data arrives sequentially over time and the GP regression model is incrementally updated to incorporate that new information. \n",
    "\n",
    "In the lecture and previous exercise sheets, you have already seen and worked with the classes `Gaussian`, `GaussianProcess`, and `ConditionalGaussianProcess` implemented in `gaussians.py`. This functionality is also very straightforward to use in the online setting, but a naive approach will turn out to be prohibitively inefficient. We are going to investigate the underlying problem in more detail and then develop and implement a more efficient strategy by using some tools from linear algebra (like the Schur complement and a block-wise Cholesy factorization)."
   ]
  },
  {
   "cell_type": "markdown",
   "metadata": {},
   "source": [
    "### 1. Training and Test Data\n",
    "\n",
    "Since we want to simulate that the training data is provided *incrementally*, it is represented by two lists `X_list` (containing 6 subsets of 100 data points each) and `Y_list` (containing the corresponding regression targets). As a first step, we load the data and visualize these subsets. "
   ]
  },
  {
   "cell_type": "code",
   "execution_count": 10,
   "metadata": {
    "execution": {
     "iopub.execute_input": "2023-06-06T09:59:18.169254Z",
     "iopub.status.busy": "2023-06-06T09:59:18.168620Z",
     "iopub.status.idle": "2023-06-06T09:59:18.183237Z",
     "shell.execute_reply": "2023-06-06T09:59:18.181936Z",
     "shell.execute_reply.started": "2023-06-06T09:59:18.169209Z"
    }
   },
   "outputs": [],
   "source": [
    "# Load data\n",
    "data = np.load(\"data.npz\")\n",
    "\n",
    "# Extract from data\n",
    "X_list = data[\"X_list\"]\n",
    "Y_list = data[\"Y_list\"]\n",
    "sigma = data[\"sigma\"]\n",
    "X_test = data[\"X_test\"]"
   ]
  },
  {
   "cell_type": "code",
   "execution_count": 5,
   "metadata": {
    "execution": {
     "iopub.execute_input": "2023-06-06T09:59:19.076941Z",
     "iopub.status.busy": "2023-06-06T09:59:19.076415Z",
     "iopub.status.idle": "2023-06-06T09:59:19.087004Z",
     "shell.execute_reply": "2023-06-06T09:59:19.086018Z",
     "shell.execute_reply.started": "2023-06-06T09:59:19.076914Z"
    }
   },
   "outputs": [
    {
     "name": "stdout",
     "output_type": "stream",
     "text": [
      "Training data\n",
      "Subset index 0: X.shape = (100, 1), Y.shape = (100,)\n",
      "Subset index 1: X.shape = (100, 1), Y.shape = (100,)\n",
      "Subset index 2: X.shape = (100, 1), Y.shape = (100,)\n",
      "Subset index 3: X.shape = (100, 1), Y.shape = (100,)\n",
      "Subset index 4: X.shape = (100, 1), Y.shape = (100,)\n",
      "Subset index 5: X.shape = (100, 1), Y.shape = (100,)\n",
      "\n",
      "Test data\n",
      "X_test.shape =  (100, 1)\n"
     ]
    }
   ],
   "source": [
    "# Check shape of sections\n",
    "print(\"Training data\")\n",
    "for idx, (Xi, Yi) in enumerate(zip(X_list, Y_list)):\n",
    "    print(f\"Subset index {idx}: X.shape = {Xi.shape}, Y.shape = {Yi.shape}\")\n",
    "    \n",
    "print(\"\\nTest data\")\n",
    "print(\"X_test.shape = \", X_test.shape)"
   ]
  },
  {
   "cell_type": "code",
   "execution_count": 11,
   "metadata": {
    "execution": {
     "iopub.execute_input": "2023-06-06T09:59:19.978472Z",
     "iopub.status.busy": "2023-06-06T09:59:19.977855Z",
     "iopub.status.idle": "2023-06-06T09:59:28.239226Z",
     "shell.execute_reply": "2023-06-06T09:59:28.238859Z",
     "shell.execute_reply.started": "2023-06-06T09:59:19.978444Z"
    }
   },
   "outputs": [
    {
     "name": "stdout",
     "output_type": "stream",
     "text": [
      "(100, 1)\n"
     ]
    },
    {
     "ename": "RuntimeError",
     "evalue": "latex was not able to process the following string:\nb'lp'\n\nHere is the full command invocation and its output:\n\nlatex -interaction=nonstopmode --halt-on-error --output-directory=tmpf_iaq965 3720056bba1e2a80fdb40423fb254ff5.tex\n\nThis is pdfTeX, Version 3.141592653-2.6-1.40.22 (TeX Live 2022/dev/Debian) (preloaded format=latex)\n restricted \\write18 enabled.\nentering extended mode\n(./3720056bba1e2a80fdb40423fb254ff5.tex\nLaTeX2e <2021-11-15> patch level 1\nL3 programming layer <2022-01-21>\n(/usr/share/texlive/texmf-dist/tex/latex/base/article.cls\nDocument Class: article 2021/10/04 v1.4n Standard LaTeX document class\n(/usr/share/texlive/texmf-dist/tex/latex/base/size10.clo))\n(/usr/share/texlive/texmf-dist/tex/latex/type1cm/type1cm.sty)\n\n! LaTeX Error: File `type1ec.sty' not found.\n\nType X to quit or <RETURN> to proceed,\nor enter new name. (Default extension: sty)\n\nEnter file name: \n! Emergency stop.\n<read *> \n         \nl.8 \\usepackage\n               [utf8]{inputenc}^^M\nNo pages of output.\nTranscript written on tmpf_iaq965/3720056bba1e2a80fdb40423fb254ff5.log.\n\n\n",
     "output_type": "error",
     "traceback": [
      "\u001b[0;31m---------------------------------------------------------------------------\u001b[0m",
      "\u001b[0;31mRuntimeError\u001b[0m                              Traceback (most recent call last)",
      "File \u001b[0;32m~/anaconda3/envs/ml3_10/lib/python3.10/site-packages/IPython/core/formatters.py:340\u001b[0m, in \u001b[0;36mBaseFormatter.__call__\u001b[0;34m(self, obj)\u001b[0m\n\u001b[1;32m    338\u001b[0m     \u001b[39mpass\u001b[39;00m\n\u001b[1;32m    339\u001b[0m \u001b[39melse\u001b[39;00m:\n\u001b[0;32m--> 340\u001b[0m     \u001b[39mreturn\u001b[39;00m printer(obj)\n\u001b[1;32m    341\u001b[0m \u001b[39m# Finally look for special method names\u001b[39;00m\n\u001b[1;32m    342\u001b[0m method \u001b[39m=\u001b[39m get_real_method(obj, \u001b[39mself\u001b[39m\u001b[39m.\u001b[39mprint_method)\n",
      "File \u001b[0;32m~/anaconda3/envs/ml3_10/lib/python3.10/site-packages/IPython/core/pylabtools.py:152\u001b[0m, in \u001b[0;36mprint_figure\u001b[0;34m(fig, fmt, bbox_inches, base64, **kwargs)\u001b[0m\n\u001b[1;32m    149\u001b[0m     \u001b[39mfrom\u001b[39;00m \u001b[39mmatplotlib\u001b[39;00m\u001b[39m.\u001b[39;00m\u001b[39mbackend_bases\u001b[39;00m \u001b[39mimport\u001b[39;00m FigureCanvasBase\n\u001b[1;32m    150\u001b[0m     FigureCanvasBase(fig)\n\u001b[0;32m--> 152\u001b[0m fig\u001b[39m.\u001b[39;49mcanvas\u001b[39m.\u001b[39;49mprint_figure(bytes_io, \u001b[39m*\u001b[39;49m\u001b[39m*\u001b[39;49mkw)\n\u001b[1;32m    153\u001b[0m data \u001b[39m=\u001b[39m bytes_io\u001b[39m.\u001b[39mgetvalue()\n\u001b[1;32m    154\u001b[0m \u001b[39mif\u001b[39;00m fmt \u001b[39m==\u001b[39m \u001b[39m'\u001b[39m\u001b[39msvg\u001b[39m\u001b[39m'\u001b[39m:\n",
      "File \u001b[0;32m~/anaconda3/envs/ml3_10/lib/python3.10/site-packages/matplotlib/backend_bases.py:2342\u001b[0m, in \u001b[0;36mFigureCanvasBase.print_figure\u001b[0;34m(self, filename, dpi, facecolor, edgecolor, orientation, format, bbox_inches, pad_inches, bbox_extra_artists, backend, **kwargs)\u001b[0m\n\u001b[1;32m   2336\u001b[0m     renderer \u001b[39m=\u001b[39m _get_renderer(\n\u001b[1;32m   2337\u001b[0m         \u001b[39mself\u001b[39m\u001b[39m.\u001b[39mfigure,\n\u001b[1;32m   2338\u001b[0m         functools\u001b[39m.\u001b[39mpartial(\n\u001b[1;32m   2339\u001b[0m             print_method, orientation\u001b[39m=\u001b[39morientation)\n\u001b[1;32m   2340\u001b[0m     )\n\u001b[1;32m   2341\u001b[0m     \u001b[39mwith\u001b[39;00m \u001b[39mgetattr\u001b[39m(renderer, \u001b[39m\"\u001b[39m\u001b[39m_draw_disabled\u001b[39m\u001b[39m\"\u001b[39m, nullcontext)():\n\u001b[0;32m-> 2342\u001b[0m         \u001b[39mself\u001b[39;49m\u001b[39m.\u001b[39;49mfigure\u001b[39m.\u001b[39;49mdraw(renderer)\n\u001b[1;32m   2344\u001b[0m \u001b[39mif\u001b[39;00m bbox_inches:\n\u001b[1;32m   2345\u001b[0m     \u001b[39mif\u001b[39;00m bbox_inches \u001b[39m==\u001b[39m \u001b[39m\"\u001b[39m\u001b[39mtight\u001b[39m\u001b[39m\"\u001b[39m:\n",
      "File \u001b[0;32m~/anaconda3/envs/ml3_10/lib/python3.10/site-packages/matplotlib/artist.py:95\u001b[0m, in \u001b[0;36m_finalize_rasterization.<locals>.draw_wrapper\u001b[0;34m(artist, renderer, *args, **kwargs)\u001b[0m\n\u001b[1;32m     93\u001b[0m \u001b[39m@wraps\u001b[39m(draw)\n\u001b[1;32m     94\u001b[0m \u001b[39mdef\u001b[39;00m \u001b[39mdraw_wrapper\u001b[39m(artist, renderer, \u001b[39m*\u001b[39margs, \u001b[39m*\u001b[39m\u001b[39m*\u001b[39mkwargs):\n\u001b[0;32m---> 95\u001b[0m     result \u001b[39m=\u001b[39m draw(artist, renderer, \u001b[39m*\u001b[39;49margs, \u001b[39m*\u001b[39;49m\u001b[39m*\u001b[39;49mkwargs)\n\u001b[1;32m     96\u001b[0m     \u001b[39mif\u001b[39;00m renderer\u001b[39m.\u001b[39m_rasterizing:\n\u001b[1;32m     97\u001b[0m         renderer\u001b[39m.\u001b[39mstop_rasterizing()\n",
      "File \u001b[0;32m~/anaconda3/envs/ml3_10/lib/python3.10/site-packages/matplotlib/artist.py:72\u001b[0m, in \u001b[0;36mallow_rasterization.<locals>.draw_wrapper\u001b[0;34m(artist, renderer)\u001b[0m\n\u001b[1;32m     69\u001b[0m     \u001b[39mif\u001b[39;00m artist\u001b[39m.\u001b[39mget_agg_filter() \u001b[39mis\u001b[39;00m \u001b[39mnot\u001b[39;00m \u001b[39mNone\u001b[39;00m:\n\u001b[1;32m     70\u001b[0m         renderer\u001b[39m.\u001b[39mstart_filter()\n\u001b[0;32m---> 72\u001b[0m     \u001b[39mreturn\u001b[39;00m draw(artist, renderer)\n\u001b[1;32m     73\u001b[0m \u001b[39mfinally\u001b[39;00m:\n\u001b[1;32m     74\u001b[0m     \u001b[39mif\u001b[39;00m artist\u001b[39m.\u001b[39mget_agg_filter() \u001b[39mis\u001b[39;00m \u001b[39mnot\u001b[39;00m \u001b[39mNone\u001b[39;00m:\n",
      "File \u001b[0;32m~/anaconda3/envs/ml3_10/lib/python3.10/site-packages/matplotlib/figure.py:3134\u001b[0m, in \u001b[0;36mFigure.draw\u001b[0;34m(self, renderer)\u001b[0m\n\u001b[1;32m   3132\u001b[0m \u001b[39mif\u001b[39;00m \u001b[39mself\u001b[39m\u001b[39m.\u001b[39maxes \u001b[39mand\u001b[39;00m \u001b[39mself\u001b[39m\u001b[39m.\u001b[39mget_layout_engine() \u001b[39mis\u001b[39;00m \u001b[39mnot\u001b[39;00m \u001b[39mNone\u001b[39;00m:\n\u001b[1;32m   3133\u001b[0m     \u001b[39mtry\u001b[39;00m:\n\u001b[0;32m-> 3134\u001b[0m         \u001b[39mself\u001b[39;49m\u001b[39m.\u001b[39;49mget_layout_engine()\u001b[39m.\u001b[39;49mexecute(\u001b[39mself\u001b[39;49m)\n\u001b[1;32m   3135\u001b[0m     \u001b[39mexcept\u001b[39;00m \u001b[39mValueError\u001b[39;00m:\n\u001b[1;32m   3136\u001b[0m         \u001b[39mpass\u001b[39;00m\n",
      "File \u001b[0;32m~/anaconda3/envs/ml3_10/lib/python3.10/site-packages/matplotlib/layout_engine.py:253\u001b[0m, in \u001b[0;36mConstrainedLayoutEngine.execute\u001b[0;34m(self, fig)\u001b[0m\n\u001b[1;32m    250\u001b[0m w_pad \u001b[39m=\u001b[39m \u001b[39mself\u001b[39m\u001b[39m.\u001b[39m_params[\u001b[39m'\u001b[39m\u001b[39mw_pad\u001b[39m\u001b[39m'\u001b[39m] \u001b[39m/\u001b[39m width\n\u001b[1;32m    251\u001b[0m h_pad \u001b[39m=\u001b[39m \u001b[39mself\u001b[39m\u001b[39m.\u001b[39m_params[\u001b[39m'\u001b[39m\u001b[39mh_pad\u001b[39m\u001b[39m'\u001b[39m] \u001b[39m/\u001b[39m height\n\u001b[0;32m--> 253\u001b[0m \u001b[39mreturn\u001b[39;00m do_constrained_layout(fig, w_pad\u001b[39m=\u001b[39;49mw_pad, h_pad\u001b[39m=\u001b[39;49mh_pad,\n\u001b[1;32m    254\u001b[0m                              wspace\u001b[39m=\u001b[39;49m\u001b[39mself\u001b[39;49m\u001b[39m.\u001b[39;49m_params[\u001b[39m'\u001b[39;49m\u001b[39mwspace\u001b[39;49m\u001b[39m'\u001b[39;49m],\n\u001b[1;32m    255\u001b[0m                              hspace\u001b[39m=\u001b[39;49m\u001b[39mself\u001b[39;49m\u001b[39m.\u001b[39;49m_params[\u001b[39m'\u001b[39;49m\u001b[39mhspace\u001b[39;49m\u001b[39m'\u001b[39;49m],\n\u001b[1;32m    256\u001b[0m                              rect\u001b[39m=\u001b[39;49m\u001b[39mself\u001b[39;49m\u001b[39m.\u001b[39;49m_params[\u001b[39m'\u001b[39;49m\u001b[39mrect\u001b[39;49m\u001b[39m'\u001b[39;49m],\n\u001b[1;32m    257\u001b[0m                              compress\u001b[39m=\u001b[39;49m\u001b[39mself\u001b[39;49m\u001b[39m.\u001b[39;49m_compress)\n",
      "File \u001b[0;32m~/anaconda3/envs/ml3_10/lib/python3.10/site-packages/matplotlib/_constrained_layout.py:119\u001b[0m, in \u001b[0;36mdo_constrained_layout\u001b[0;34m(fig, h_pad, w_pad, hspace, wspace, rect, compress)\u001b[0m\n\u001b[1;32m    109\u001b[0m     \u001b[39mreturn\u001b[39;00m\n\u001b[1;32m    111\u001b[0m \u001b[39mfor\u001b[39;00m _ \u001b[39min\u001b[39;00m \u001b[39mrange\u001b[39m(\u001b[39m2\u001b[39m):\n\u001b[1;32m    112\u001b[0m     \u001b[39m# do the algorithm twice.  This has to be done because decorations\u001b[39;00m\n\u001b[1;32m    113\u001b[0m     \u001b[39m# change size after the first re-position (i.e. x/yticklabels get\u001b[39;00m\n\u001b[0;32m   (...)\u001b[0m\n\u001b[1;32m    117\u001b[0m     \u001b[39m# make margins for all the axes and subfigures in the\u001b[39;00m\n\u001b[1;32m    118\u001b[0m     \u001b[39m# figure.  Add margins for colorbars...\u001b[39;00m\n\u001b[0;32m--> 119\u001b[0m     make_layout_margins(layoutgrids, fig, renderer, h_pad\u001b[39m=\u001b[39;49mh_pad,\n\u001b[1;32m    120\u001b[0m                         w_pad\u001b[39m=\u001b[39;49mw_pad, hspace\u001b[39m=\u001b[39;49mhspace, wspace\u001b[39m=\u001b[39;49mwspace)\n\u001b[1;32m    121\u001b[0m     make_margin_suptitles(layoutgrids, fig, renderer, h_pad\u001b[39m=\u001b[39mh_pad,\n\u001b[1;32m    122\u001b[0m                           w_pad\u001b[39m=\u001b[39mw_pad)\n\u001b[1;32m    124\u001b[0m     \u001b[39m# if a layout is such that a columns (or rows) margin has no\u001b[39;00m\n\u001b[1;32m    125\u001b[0m     \u001b[39m# constraints, we need to make all such instances in the grid\u001b[39;00m\n\u001b[1;32m    126\u001b[0m     \u001b[39m# match in margin size.\u001b[39;00m\n",
      "File \u001b[0;32m~/anaconda3/envs/ml3_10/lib/python3.10/site-packages/matplotlib/_constrained_layout.py:369\u001b[0m, in \u001b[0;36mmake_layout_margins\u001b[0;34m(layoutgrids, fig, renderer, w_pad, h_pad, hspace, wspace)\u001b[0m\n\u001b[1;32m    365\u001b[0m     \u001b[39mreturn\u001b[39;00m\n\u001b[1;32m    367\u001b[0m margin \u001b[39m=\u001b[39m get_margin_from_padding(ax, w_pad\u001b[39m=\u001b[39mw_pad, h_pad\u001b[39m=\u001b[39mh_pad,\n\u001b[1;32m    368\u001b[0m                                  hspace\u001b[39m=\u001b[39mhspace, wspace\u001b[39m=\u001b[39mwspace)\n\u001b[0;32m--> 369\u001b[0m pos, bbox \u001b[39m=\u001b[39m get_pos_and_bbox(ax, renderer)\n\u001b[1;32m    370\u001b[0m \u001b[39m# the margin is the distance between the bounding box of the axes\u001b[39;00m\n\u001b[1;32m    371\u001b[0m \u001b[39m# and its position (plus the padding from above)\u001b[39;00m\n\u001b[1;32m    372\u001b[0m margin[\u001b[39m'\u001b[39m\u001b[39mleft\u001b[39m\u001b[39m'\u001b[39m] \u001b[39m+\u001b[39m\u001b[39m=\u001b[39m pos\u001b[39m.\u001b[39mx0 \u001b[39m-\u001b[39m bbox\u001b[39m.\u001b[39mx0\n",
      "File \u001b[0;32m~/anaconda3/envs/ml3_10/lib/python3.10/site-packages/matplotlib/_constrained_layout.py:617\u001b[0m, in \u001b[0;36mget_pos_and_bbox\u001b[0;34m(ax, renderer)\u001b[0m\n\u001b[1;32m    615\u001b[0m \u001b[39m# pos is in panel co-ords, but we need in figure for the layout\u001b[39;00m\n\u001b[1;32m    616\u001b[0m pos \u001b[39m=\u001b[39m pos\u001b[39m.\u001b[39mtransformed(fig\u001b[39m.\u001b[39mtransSubfigure \u001b[39m-\u001b[39m fig\u001b[39m.\u001b[39mtransFigure)\n\u001b[0;32m--> 617\u001b[0m tightbbox \u001b[39m=\u001b[39m martist\u001b[39m.\u001b[39;49m_get_tightbbox_for_layout_only(ax, renderer)\n\u001b[1;32m    618\u001b[0m \u001b[39mif\u001b[39;00m tightbbox \u001b[39mis\u001b[39;00m \u001b[39mNone\u001b[39;00m:\n\u001b[1;32m    619\u001b[0m     bbox \u001b[39m=\u001b[39m pos\n",
      "File \u001b[0;32m~/anaconda3/envs/ml3_10/lib/python3.10/site-packages/matplotlib/artist.py:1415\u001b[0m, in \u001b[0;36m_get_tightbbox_for_layout_only\u001b[0;34m(obj, *args, **kwargs)\u001b[0m\n\u001b[1;32m   1409\u001b[0m \u001b[39m\u001b[39m\u001b[39m\"\"\"\u001b[39;00m\n\u001b[1;32m   1410\u001b[0m \u001b[39mMatplotlib's `.Axes.get_tightbbox` and `.Axis.get_tightbbox` support a\u001b[39;00m\n\u001b[1;32m   1411\u001b[0m \u001b[39m*for_layout_only* kwarg; this helper tries to use the kwarg but skips it\u001b[39;00m\n\u001b[1;32m   1412\u001b[0m \u001b[39mwhen encountering third-party subclasses that do not support it.\u001b[39;00m\n\u001b[1;32m   1413\u001b[0m \u001b[39m\"\"\"\u001b[39;00m\n\u001b[1;32m   1414\u001b[0m \u001b[39mtry\u001b[39;00m:\n\u001b[0;32m-> 1415\u001b[0m     \u001b[39mreturn\u001b[39;00m obj\u001b[39m.\u001b[39;49mget_tightbbox(\u001b[39m*\u001b[39;49margs, \u001b[39m*\u001b[39;49m\u001b[39m*\u001b[39;49m{\u001b[39m*\u001b[39;49m\u001b[39m*\u001b[39;49mkwargs, \u001b[39m\"\u001b[39;49m\u001b[39mfor_layout_only\u001b[39;49m\u001b[39m\"\u001b[39;49m: \u001b[39mTrue\u001b[39;49;00m})\n\u001b[1;32m   1416\u001b[0m \u001b[39mexcept\u001b[39;00m \u001b[39mTypeError\u001b[39;00m:\n\u001b[1;32m   1417\u001b[0m     \u001b[39mreturn\u001b[39;00m obj\u001b[39m.\u001b[39mget_tightbbox(\u001b[39m*\u001b[39margs, \u001b[39m*\u001b[39m\u001b[39m*\u001b[39mkwargs)\n",
      "File \u001b[0;32m~/anaconda3/envs/ml3_10/lib/python3.10/site-packages/matplotlib/axes/_base.py:4385\u001b[0m, in \u001b[0;36m_AxesBase.get_tightbbox\u001b[0;34m(self, renderer, call_axes_locator, bbox_extra_artists, for_layout_only)\u001b[0m\n\u001b[1;32m   4383\u001b[0m \u001b[39mfor\u001b[39;00m axis \u001b[39min\u001b[39;00m \u001b[39mself\u001b[39m\u001b[39m.\u001b[39m_axis_map\u001b[39m.\u001b[39mvalues():\n\u001b[1;32m   4384\u001b[0m     \u001b[39mif\u001b[39;00m \u001b[39mself\u001b[39m\u001b[39m.\u001b[39maxison \u001b[39mand\u001b[39;00m axis\u001b[39m.\u001b[39mget_visible():\n\u001b[0;32m-> 4385\u001b[0m         ba \u001b[39m=\u001b[39m martist\u001b[39m.\u001b[39;49m_get_tightbbox_for_layout_only(axis, renderer)\n\u001b[1;32m   4386\u001b[0m         \u001b[39mif\u001b[39;00m ba:\n\u001b[1;32m   4387\u001b[0m             bb\u001b[39m.\u001b[39mappend(ba)\n",
      "File \u001b[0;32m~/anaconda3/envs/ml3_10/lib/python3.10/site-packages/matplotlib/artist.py:1415\u001b[0m, in \u001b[0;36m_get_tightbbox_for_layout_only\u001b[0;34m(obj, *args, **kwargs)\u001b[0m\n\u001b[1;32m   1409\u001b[0m \u001b[39m\u001b[39m\u001b[39m\"\"\"\u001b[39;00m\n\u001b[1;32m   1410\u001b[0m \u001b[39mMatplotlib's `.Axes.get_tightbbox` and `.Axis.get_tightbbox` support a\u001b[39;00m\n\u001b[1;32m   1411\u001b[0m \u001b[39m*for_layout_only* kwarg; this helper tries to use the kwarg but skips it\u001b[39;00m\n\u001b[1;32m   1412\u001b[0m \u001b[39mwhen encountering third-party subclasses that do not support it.\u001b[39;00m\n\u001b[1;32m   1413\u001b[0m \u001b[39m\"\"\"\u001b[39;00m\n\u001b[1;32m   1414\u001b[0m \u001b[39mtry\u001b[39;00m:\n\u001b[0;32m-> 1415\u001b[0m     \u001b[39mreturn\u001b[39;00m obj\u001b[39m.\u001b[39;49mget_tightbbox(\u001b[39m*\u001b[39;49margs, \u001b[39m*\u001b[39;49m\u001b[39m*\u001b[39;49m{\u001b[39m*\u001b[39;49m\u001b[39m*\u001b[39;49mkwargs, \u001b[39m\"\u001b[39;49m\u001b[39mfor_layout_only\u001b[39;49m\u001b[39m\"\u001b[39;49m: \u001b[39mTrue\u001b[39;49;00m})\n\u001b[1;32m   1416\u001b[0m \u001b[39mexcept\u001b[39;00m \u001b[39mTypeError\u001b[39;00m:\n\u001b[1;32m   1417\u001b[0m     \u001b[39mreturn\u001b[39;00m obj\u001b[39m.\u001b[39mget_tightbbox(\u001b[39m*\u001b[39margs, \u001b[39m*\u001b[39m\u001b[39m*\u001b[39mkwargs)\n",
      "File \u001b[0;32m~/anaconda3/envs/ml3_10/lib/python3.10/site-packages/matplotlib/axis.py:1325\u001b[0m, in \u001b[0;36mAxis.get_tightbbox\u001b[0;34m(self, renderer, for_layout_only)\u001b[0m\n\u001b[1;32m   1322\u001b[0m     renderer \u001b[39m=\u001b[39m \u001b[39mself\u001b[39m\u001b[39m.\u001b[39mfigure\u001b[39m.\u001b[39m_get_renderer()\n\u001b[1;32m   1323\u001b[0m ticks_to_draw \u001b[39m=\u001b[39m \u001b[39mself\u001b[39m\u001b[39m.\u001b[39m_update_ticks()\n\u001b[0;32m-> 1325\u001b[0m \u001b[39mself\u001b[39;49m\u001b[39m.\u001b[39;49m_update_label_position(renderer)\n\u001b[1;32m   1327\u001b[0m \u001b[39m# go back to just this axis's tick labels\u001b[39;00m\n\u001b[1;32m   1328\u001b[0m tlb1, tlb2 \u001b[39m=\u001b[39m \u001b[39mself\u001b[39m\u001b[39m.\u001b[39m_get_ticklabel_bboxes(ticks_to_draw, renderer)\n",
      "File \u001b[0;32m~/anaconda3/envs/ml3_10/lib/python3.10/site-packages/matplotlib/axis.py:2304\u001b[0m, in \u001b[0;36mXAxis._update_label_position\u001b[0;34m(self, renderer)\u001b[0m\n\u001b[1;32m   2300\u001b[0m     \u001b[39mreturn\u001b[39;00m\n\u001b[1;32m   2302\u001b[0m \u001b[39m# get bounding boxes for this axis and any siblings\u001b[39;00m\n\u001b[1;32m   2303\u001b[0m \u001b[39m# that have been set by `fig.align_xlabels()`\u001b[39;00m\n\u001b[0;32m-> 2304\u001b[0m bboxes, bboxes2 \u001b[39m=\u001b[39m \u001b[39mself\u001b[39;49m\u001b[39m.\u001b[39;49m_get_tick_boxes_siblings(renderer\u001b[39m=\u001b[39;49mrenderer)\n\u001b[1;32m   2306\u001b[0m x, y \u001b[39m=\u001b[39m \u001b[39mself\u001b[39m\u001b[39m.\u001b[39mlabel\u001b[39m.\u001b[39mget_position()\n\u001b[1;32m   2307\u001b[0m \u001b[39mif\u001b[39;00m \u001b[39mself\u001b[39m\u001b[39m.\u001b[39mlabel_position \u001b[39m==\u001b[39m \u001b[39m'\u001b[39m\u001b[39mbottom\u001b[39m\u001b[39m'\u001b[39m:\n",
      "File \u001b[0;32m~/anaconda3/envs/ml3_10/lib/python3.10/site-packages/matplotlib/axis.py:2100\u001b[0m, in \u001b[0;36mAxis._get_tick_boxes_siblings\u001b[0;34m(self, renderer)\u001b[0m\n\u001b[1;32m   2098\u001b[0m axis \u001b[39m=\u001b[39m \u001b[39mgetattr\u001b[39m(ax, \u001b[39mf\u001b[39m\u001b[39m\"\u001b[39m\u001b[39m{\u001b[39;00maxis_name\u001b[39m}\u001b[39;00m\u001b[39maxis\u001b[39m\u001b[39m\"\u001b[39m)\n\u001b[1;32m   2099\u001b[0m ticks_to_draw \u001b[39m=\u001b[39m axis\u001b[39m.\u001b[39m_update_ticks()\n\u001b[0;32m-> 2100\u001b[0m tlb, tlb2 \u001b[39m=\u001b[39m axis\u001b[39m.\u001b[39;49m_get_ticklabel_bboxes(ticks_to_draw, renderer)\n\u001b[1;32m   2101\u001b[0m bboxes\u001b[39m.\u001b[39mextend(tlb)\n\u001b[1;32m   2102\u001b[0m bboxes2\u001b[39m.\u001b[39mextend(tlb2)\n",
      "File \u001b[0;32m~/anaconda3/envs/ml3_10/lib/python3.10/site-packages/matplotlib/axis.py:1304\u001b[0m, in \u001b[0;36mAxis._get_ticklabel_bboxes\u001b[0;34m(self, ticks, renderer)\u001b[0m\n\u001b[1;32m   1302\u001b[0m \u001b[39mif\u001b[39;00m renderer \u001b[39mis\u001b[39;00m \u001b[39mNone\u001b[39;00m:\n\u001b[1;32m   1303\u001b[0m     renderer \u001b[39m=\u001b[39m \u001b[39mself\u001b[39m\u001b[39m.\u001b[39mfigure\u001b[39m.\u001b[39m_get_renderer()\n\u001b[0;32m-> 1304\u001b[0m \u001b[39mreturn\u001b[39;00m ([tick\u001b[39m.\u001b[39mlabel1\u001b[39m.\u001b[39mget_window_extent(renderer)\n\u001b[1;32m   1305\u001b[0m          \u001b[39mfor\u001b[39;00m tick \u001b[39min\u001b[39;00m ticks \u001b[39mif\u001b[39;00m tick\u001b[39m.\u001b[39mlabel1\u001b[39m.\u001b[39mget_visible()],\n\u001b[1;32m   1306\u001b[0m         [tick\u001b[39m.\u001b[39mlabel2\u001b[39m.\u001b[39mget_window_extent(renderer)\n\u001b[1;32m   1307\u001b[0m          \u001b[39mfor\u001b[39;00m tick \u001b[39min\u001b[39;00m ticks \u001b[39mif\u001b[39;00m tick\u001b[39m.\u001b[39mlabel2\u001b[39m.\u001b[39mget_visible()])\n",
      "File \u001b[0;32m~/anaconda3/envs/ml3_10/lib/python3.10/site-packages/matplotlib/axis.py:1304\u001b[0m, in \u001b[0;36m<listcomp>\u001b[0;34m(.0)\u001b[0m\n\u001b[1;32m   1302\u001b[0m \u001b[39mif\u001b[39;00m renderer \u001b[39mis\u001b[39;00m \u001b[39mNone\u001b[39;00m:\n\u001b[1;32m   1303\u001b[0m     renderer \u001b[39m=\u001b[39m \u001b[39mself\u001b[39m\u001b[39m.\u001b[39mfigure\u001b[39m.\u001b[39m_get_renderer()\n\u001b[0;32m-> 1304\u001b[0m \u001b[39mreturn\u001b[39;00m ([tick\u001b[39m.\u001b[39;49mlabel1\u001b[39m.\u001b[39;49mget_window_extent(renderer)\n\u001b[1;32m   1305\u001b[0m          \u001b[39mfor\u001b[39;00m tick \u001b[39min\u001b[39;00m ticks \u001b[39mif\u001b[39;00m tick\u001b[39m.\u001b[39mlabel1\u001b[39m.\u001b[39mget_visible()],\n\u001b[1;32m   1306\u001b[0m         [tick\u001b[39m.\u001b[39mlabel2\u001b[39m.\u001b[39mget_window_extent(renderer)\n\u001b[1;32m   1307\u001b[0m          \u001b[39mfor\u001b[39;00m tick \u001b[39min\u001b[39;00m ticks \u001b[39mif\u001b[39;00m tick\u001b[39m.\u001b[39mlabel2\u001b[39m.\u001b[39mget_visible()])\n",
      "File \u001b[0;32m~/anaconda3/envs/ml3_10/lib/python3.10/site-packages/matplotlib/text.py:959\u001b[0m, in \u001b[0;36mText.get_window_extent\u001b[0;34m(self, renderer, dpi)\u001b[0m\n\u001b[1;32m    954\u001b[0m     \u001b[39mraise\u001b[39;00m \u001b[39mRuntimeError\u001b[39;00m(\n\u001b[1;32m    955\u001b[0m         \u001b[39m\"\u001b[39m\u001b[39mCannot get window extent of text w/o renderer. You likely \u001b[39m\u001b[39m\"\u001b[39m\n\u001b[1;32m    956\u001b[0m         \u001b[39m\"\u001b[39m\u001b[39mwant to call \u001b[39m\u001b[39m'\u001b[39m\u001b[39mfigure.draw_without_rendering()\u001b[39m\u001b[39m'\u001b[39m\u001b[39m first.\u001b[39m\u001b[39m\"\u001b[39m)\n\u001b[1;32m    958\u001b[0m \u001b[39mwith\u001b[39;00m cbook\u001b[39m.\u001b[39m_setattr_cm(\u001b[39mself\u001b[39m\u001b[39m.\u001b[39mfigure, dpi\u001b[39m=\u001b[39mdpi):\n\u001b[0;32m--> 959\u001b[0m     bbox, info, descent \u001b[39m=\u001b[39m \u001b[39mself\u001b[39;49m\u001b[39m.\u001b[39;49m_get_layout(\u001b[39mself\u001b[39;49m\u001b[39m.\u001b[39;49m_renderer)\n\u001b[1;32m    960\u001b[0m     x, y \u001b[39m=\u001b[39m \u001b[39mself\u001b[39m\u001b[39m.\u001b[39mget_unitless_position()\n\u001b[1;32m    961\u001b[0m     x, y \u001b[39m=\u001b[39m \u001b[39mself\u001b[39m\u001b[39m.\u001b[39mget_transform()\u001b[39m.\u001b[39mtransform((x, y))\n",
      "File \u001b[0;32m~/anaconda3/envs/ml3_10/lib/python3.10/site-packages/matplotlib/text.py:378\u001b[0m, in \u001b[0;36mText._get_layout\u001b[0;34m(self, renderer)\u001b[0m\n\u001b[1;32m    375\u001b[0m ys \u001b[39m=\u001b[39m []\n\u001b[1;32m    377\u001b[0m \u001b[39m# Full vertical extent of font, including ascenders and descenders:\u001b[39;00m\n\u001b[0;32m--> 378\u001b[0m _, lp_h, lp_d \u001b[39m=\u001b[39m _get_text_metrics_with_cache(\n\u001b[1;32m    379\u001b[0m     renderer, \u001b[39m\"\u001b[39;49m\u001b[39mlp\u001b[39;49m\u001b[39m\"\u001b[39;49m, \u001b[39mself\u001b[39;49m\u001b[39m.\u001b[39;49m_fontproperties,\n\u001b[1;32m    380\u001b[0m     ismath\u001b[39m=\u001b[39;49m\u001b[39m\"\u001b[39;49m\u001b[39mTeX\u001b[39;49m\u001b[39m\"\u001b[39;49m \u001b[39mif\u001b[39;49;00m \u001b[39mself\u001b[39;49m\u001b[39m.\u001b[39;49mget_usetex() \u001b[39melse\u001b[39;49;00m \u001b[39mFalse\u001b[39;49;00m, dpi\u001b[39m=\u001b[39;49m\u001b[39mself\u001b[39;49m\u001b[39m.\u001b[39;49mfigure\u001b[39m.\u001b[39;49mdpi)\n\u001b[1;32m    381\u001b[0m min_dy \u001b[39m=\u001b[39m (lp_h \u001b[39m-\u001b[39m lp_d) \u001b[39m*\u001b[39m \u001b[39mself\u001b[39m\u001b[39m.\u001b[39m_linespacing\n\u001b[1;32m    383\u001b[0m \u001b[39mfor\u001b[39;00m i, line \u001b[39min\u001b[39;00m \u001b[39menumerate\u001b[39m(lines):\n",
      "File \u001b[0;32m~/anaconda3/envs/ml3_10/lib/python3.10/site-packages/matplotlib/text.py:97\u001b[0m, in \u001b[0;36m_get_text_metrics_with_cache\u001b[0;34m(renderer, text, fontprop, ismath, dpi)\u001b[0m\n\u001b[1;32m     94\u001b[0m \u001b[39m\u001b[39m\u001b[39m\"\"\"Call ``renderer.get_text_width_height_descent``, caching the results.\"\"\"\u001b[39;00m\n\u001b[1;32m     95\u001b[0m \u001b[39m# Cached based on a copy of fontprop so that later in-place mutations of\u001b[39;00m\n\u001b[1;32m     96\u001b[0m \u001b[39m# the passed-in argument do not mess up the cache.\u001b[39;00m\n\u001b[0;32m---> 97\u001b[0m \u001b[39mreturn\u001b[39;00m _get_text_metrics_with_cache_impl(\n\u001b[1;32m     98\u001b[0m     weakref\u001b[39m.\u001b[39;49mref(renderer), text, fontprop\u001b[39m.\u001b[39;49mcopy(), ismath, dpi)\n",
      "File \u001b[0;32m~/anaconda3/envs/ml3_10/lib/python3.10/site-packages/matplotlib/text.py:105\u001b[0m, in \u001b[0;36m_get_text_metrics_with_cache_impl\u001b[0;34m(renderer_ref, text, fontprop, ismath, dpi)\u001b[0m\n\u001b[1;32m    101\u001b[0m \u001b[39m@functools\u001b[39m\u001b[39m.\u001b[39mlru_cache(\u001b[39m4096\u001b[39m)\n\u001b[1;32m    102\u001b[0m \u001b[39mdef\u001b[39;00m \u001b[39m_get_text_metrics_with_cache_impl\u001b[39m(\n\u001b[1;32m    103\u001b[0m         renderer_ref, text, fontprop, ismath, dpi):\n\u001b[1;32m    104\u001b[0m     \u001b[39m# dpi is unused, but participates in cache invalidation (via the renderer).\u001b[39;00m\n\u001b[0;32m--> 105\u001b[0m     \u001b[39mreturn\u001b[39;00m renderer_ref()\u001b[39m.\u001b[39;49mget_text_width_height_descent(text, fontprop, ismath)\n",
      "File \u001b[0;32m~/anaconda3/envs/ml3_10/lib/python3.10/site-packages/matplotlib/backends/backend_agg.py:226\u001b[0m, in \u001b[0;36mRendererAgg.get_text_width_height_descent\u001b[0;34m(self, s, prop, ismath)\u001b[0m\n\u001b[1;32m    224\u001b[0m _api\u001b[39m.\u001b[39mcheck_in_list([\u001b[39m\"\u001b[39m\u001b[39mTeX\u001b[39m\u001b[39m\"\u001b[39m, \u001b[39mTrue\u001b[39;00m, \u001b[39mFalse\u001b[39;00m], ismath\u001b[39m=\u001b[39mismath)\n\u001b[1;32m    225\u001b[0m \u001b[39mif\u001b[39;00m ismath \u001b[39m==\u001b[39m \u001b[39m\"\u001b[39m\u001b[39mTeX\u001b[39m\u001b[39m\"\u001b[39m:\n\u001b[0;32m--> 226\u001b[0m     \u001b[39mreturn\u001b[39;00m \u001b[39msuper\u001b[39;49m()\u001b[39m.\u001b[39;49mget_text_width_height_descent(s, prop, ismath)\n\u001b[1;32m    228\u001b[0m \u001b[39mif\u001b[39;00m ismath:\n\u001b[1;32m    229\u001b[0m     ox, oy, width, height, descent, font_image \u001b[39m=\u001b[39m \\\n\u001b[1;32m    230\u001b[0m         \u001b[39mself\u001b[39m\u001b[39m.\u001b[39mmathtext_parser\u001b[39m.\u001b[39mparse(s, \u001b[39mself\u001b[39m\u001b[39m.\u001b[39mdpi, prop)\n",
      "File \u001b[0;32m~/anaconda3/envs/ml3_10/lib/python3.10/site-packages/matplotlib/backend_bases.py:645\u001b[0m, in \u001b[0;36mRendererBase.get_text_width_height_descent\u001b[0;34m(self, s, prop, ismath)\u001b[0m\n\u001b[1;32m    641\u001b[0m fontsize \u001b[39m=\u001b[39m prop\u001b[39m.\u001b[39mget_size_in_points()\n\u001b[1;32m    643\u001b[0m \u001b[39mif\u001b[39;00m ismath \u001b[39m==\u001b[39m \u001b[39m'\u001b[39m\u001b[39mTeX\u001b[39m\u001b[39m'\u001b[39m:\n\u001b[1;32m    644\u001b[0m     \u001b[39m# todo: handle properties\u001b[39;00m\n\u001b[0;32m--> 645\u001b[0m     \u001b[39mreturn\u001b[39;00m \u001b[39mself\u001b[39;49m\u001b[39m.\u001b[39;49mget_texmanager()\u001b[39m.\u001b[39;49mget_text_width_height_descent(\n\u001b[1;32m    646\u001b[0m         s, fontsize, renderer\u001b[39m=\u001b[39;49m\u001b[39mself\u001b[39;49m)\n\u001b[1;32m    648\u001b[0m dpi \u001b[39m=\u001b[39m \u001b[39mself\u001b[39m\u001b[39m.\u001b[39mpoints_to_pixels(\u001b[39m72\u001b[39m)\n\u001b[1;32m    649\u001b[0m \u001b[39mif\u001b[39;00m ismath:\n",
      "File \u001b[0;32m~/anaconda3/envs/ml3_10/lib/python3.10/site-packages/matplotlib/texmanager.py:368\u001b[0m, in \u001b[0;36mTexManager.get_text_width_height_descent\u001b[0;34m(cls, tex, fontsize, renderer)\u001b[0m\n\u001b[1;32m    366\u001b[0m \u001b[39mif\u001b[39;00m tex\u001b[39m.\u001b[39mstrip() \u001b[39m==\u001b[39m \u001b[39m'\u001b[39m\u001b[39m'\u001b[39m:\n\u001b[1;32m    367\u001b[0m     \u001b[39mreturn\u001b[39;00m \u001b[39m0\u001b[39m, \u001b[39m0\u001b[39m, \u001b[39m0\u001b[39m\n\u001b[0;32m--> 368\u001b[0m dvifile \u001b[39m=\u001b[39m \u001b[39mcls\u001b[39;49m\u001b[39m.\u001b[39;49mmake_dvi(tex, fontsize)\n\u001b[1;32m    369\u001b[0m dpi_fraction \u001b[39m=\u001b[39m renderer\u001b[39m.\u001b[39mpoints_to_pixels(\u001b[39m1.\u001b[39m) \u001b[39mif\u001b[39;00m renderer \u001b[39melse\u001b[39;00m \u001b[39m1\u001b[39m\n\u001b[1;32m    370\u001b[0m \u001b[39mwith\u001b[39;00m dviread\u001b[39m.\u001b[39mDvi(dvifile, \u001b[39m72\u001b[39m \u001b[39m*\u001b[39m dpi_fraction) \u001b[39mas\u001b[39;00m dvi:\n",
      "File \u001b[0;32m~/anaconda3/envs/ml3_10/lib/python3.10/site-packages/matplotlib/texmanager.py:300\u001b[0m, in \u001b[0;36mTexManager.make_dvi\u001b[0;34m(cls, tex, fontsize)\u001b[0m\n\u001b[1;32m    298\u001b[0m     \u001b[39mwith\u001b[39;00m TemporaryDirectory(\u001b[39mdir\u001b[39m\u001b[39m=\u001b[39mcwd) \u001b[39mas\u001b[39;00m tmpdir:\n\u001b[1;32m    299\u001b[0m         tmppath \u001b[39m=\u001b[39m Path(tmpdir)\n\u001b[0;32m--> 300\u001b[0m         \u001b[39mcls\u001b[39;49m\u001b[39m.\u001b[39;49m_run_checked_subprocess(\n\u001b[1;32m    301\u001b[0m             [\u001b[39m\"\u001b[39;49m\u001b[39mlatex\u001b[39;49m\u001b[39m\"\u001b[39;49m, \u001b[39m\"\u001b[39;49m\u001b[39m-interaction=nonstopmode\u001b[39;49m\u001b[39m\"\u001b[39;49m, \u001b[39m\"\u001b[39;49m\u001b[39m--halt-on-error\u001b[39;49m\u001b[39m\"\u001b[39;49m,\n\u001b[1;32m    302\u001b[0m              \u001b[39mf\u001b[39;49m\u001b[39m\"\u001b[39;49m\u001b[39m--output-directory=\u001b[39;49m\u001b[39m{\u001b[39;49;00mtmppath\u001b[39m.\u001b[39;49mname\u001b[39m}\u001b[39;49;00m\u001b[39m\"\u001b[39;49m,\n\u001b[1;32m    303\u001b[0m              \u001b[39mf\u001b[39;49m\u001b[39m\"\u001b[39;49m\u001b[39m{\u001b[39;49;00mtexfile\u001b[39m.\u001b[39;49mname\u001b[39m}\u001b[39;49;00m\u001b[39m\"\u001b[39;49m], tex, cwd\u001b[39m=\u001b[39;49mcwd)\n\u001b[1;32m    304\u001b[0m         (tmppath \u001b[39m/\u001b[39m Path(dvifile)\u001b[39m.\u001b[39mname)\u001b[39m.\u001b[39mreplace(dvifile)\n\u001b[1;32m    305\u001b[0m \u001b[39mreturn\u001b[39;00m dvifile\n",
      "File \u001b[0;32m~/anaconda3/envs/ml3_10/lib/python3.10/site-packages/matplotlib/texmanager.py:263\u001b[0m, in \u001b[0;36mTexManager._run_checked_subprocess\u001b[0;34m(cls, command, tex, cwd)\u001b[0m\n\u001b[1;32m    259\u001b[0m     \u001b[39mraise\u001b[39;00m \u001b[39mRuntimeError\u001b[39;00m(\n\u001b[1;32m    260\u001b[0m         \u001b[39m'\u001b[39m\u001b[39mFailed to process string with tex because \u001b[39m\u001b[39m{}\u001b[39;00m\u001b[39m could not be \u001b[39m\u001b[39m'\u001b[39m\n\u001b[1;32m    261\u001b[0m         \u001b[39m'\u001b[39m\u001b[39mfound\u001b[39m\u001b[39m'\u001b[39m\u001b[39m.\u001b[39mformat(command[\u001b[39m0\u001b[39m])) \u001b[39mfrom\u001b[39;00m \u001b[39mexc\u001b[39;00m\n\u001b[1;32m    262\u001b[0m \u001b[39mexcept\u001b[39;00m subprocess\u001b[39m.\u001b[39mCalledProcessError \u001b[39mas\u001b[39;00m exc:\n\u001b[0;32m--> 263\u001b[0m     \u001b[39mraise\u001b[39;00m \u001b[39mRuntimeError\u001b[39;00m(\n\u001b[1;32m    264\u001b[0m         \u001b[39m'\u001b[39m\u001b[39m{prog}\u001b[39;00m\u001b[39m was not able to process the following string:\u001b[39m\u001b[39m\\n\u001b[39;00m\u001b[39m'\u001b[39m\n\u001b[1;32m    265\u001b[0m         \u001b[39m'\u001b[39m\u001b[39m{tex!r}\u001b[39;00m\u001b[39m\\n\u001b[39;00m\u001b[39m\\n\u001b[39;00m\u001b[39m'\u001b[39m\n\u001b[1;32m    266\u001b[0m         \u001b[39m'\u001b[39m\u001b[39mHere is the full command invocation and its output:\u001b[39m\u001b[39m\\n\u001b[39;00m\u001b[39m\\n\u001b[39;00m\u001b[39m'\u001b[39m\n\u001b[1;32m    267\u001b[0m         \u001b[39m'\u001b[39m\u001b[39m{format_command}\u001b[39;00m\u001b[39m\\n\u001b[39;00m\u001b[39m\\n\u001b[39;00m\u001b[39m'\u001b[39m\n\u001b[1;32m    268\u001b[0m         \u001b[39m'\u001b[39m\u001b[39m{exc}\u001b[39;00m\u001b[39m\\n\u001b[39;00m\u001b[39m\\n\u001b[39;00m\u001b[39m'\u001b[39m\u001b[39m.\u001b[39mformat(\n\u001b[1;32m    269\u001b[0m             prog\u001b[39m=\u001b[39mcommand[\u001b[39m0\u001b[39m],\n\u001b[1;32m    270\u001b[0m             format_command\u001b[39m=\u001b[39mcbook\u001b[39m.\u001b[39m_pformat_subprocess(command),\n\u001b[1;32m    271\u001b[0m             tex\u001b[39m=\u001b[39mtex\u001b[39m.\u001b[39mencode(\u001b[39m'\u001b[39m\u001b[39municode_escape\u001b[39m\u001b[39m'\u001b[39m),\n\u001b[1;32m    272\u001b[0m             exc\u001b[39m=\u001b[39mexc\u001b[39m.\u001b[39moutput\u001b[39m.\u001b[39mdecode(\u001b[39m'\u001b[39m\u001b[39mutf-8\u001b[39m\u001b[39m'\u001b[39m, \u001b[39m'\u001b[39m\u001b[39mbackslashreplace\u001b[39m\u001b[39m'\u001b[39m))\n\u001b[1;32m    273\u001b[0m         ) \u001b[39mfrom\u001b[39;00m \u001b[39mNone\u001b[39;00m\n\u001b[1;32m    274\u001b[0m _log\u001b[39m.\u001b[39mdebug(report)\n\u001b[1;32m    275\u001b[0m \u001b[39mreturn\u001b[39;00m report\n",
      "\u001b[0;31mRuntimeError\u001b[0m: latex was not able to process the following string:\nb'lp'\n\nHere is the full command invocation and its output:\n\nlatex -interaction=nonstopmode --halt-on-error --output-directory=tmpf_iaq965 3720056bba1e2a80fdb40423fb254ff5.tex\n\nThis is pdfTeX, Version 3.141592653-2.6-1.40.22 (TeX Live 2022/dev/Debian) (preloaded format=latex)\n restricted \\write18 enabled.\nentering extended mode\n(./3720056bba1e2a80fdb40423fb254ff5.tex\nLaTeX2e <2021-11-15> patch level 1\nL3 programming layer <2022-01-21>\n(/usr/share/texlive/texmf-dist/tex/latex/base/article.cls\nDocument Class: article 2021/10/04 v1.4n Standard LaTeX document class\n(/usr/share/texlive/texmf-dist/tex/latex/base/size10.clo))\n(/usr/share/texlive/texmf-dist/tex/latex/type1cm/type1cm.sty)\n\n! LaTeX Error: File `type1ec.sty' not found.\n\nType X to quit or <RETURN> to proceed,\nor enter new name. (Default extension: sty)\n\nEnter file name: \n! Emergency stop.\n<read *> \n         \nl.8 \\usepackage\n               [utf8]{inputenc}^^M\nNo pages of output.\nTranscript written on tmpf_iaq965/3720056bba1e2a80fdb40423fb254ff5.log.\n\n\n"
     ]
    },
    {
     "data": {
      "text/plain": [
       "<Figure size 400x300 with 1 Axes>"
      ]
     },
     "metadata": {},
     "output_type": "display_data"
    }
   ],
   "source": [
    "def setup_plot(ax, title=None):\n",
    "    ax.set_xlabel(\"$x$\")\n",
    "    ax.set_ylabel(\"$y$\")\n",
    "    ax.grid()\n",
    "    if title is not None:\n",
    "        ax.set_title(title)\n",
    "\n",
    "    \n",
    "# Visualization of training data\n",
    "fig, ax = plt.subplots(1, 1, figsize=(4, 3))\n",
    "\n",
    "for idx, (Xi, Yi) in enumerate(zip(X_list, Y_list)):\n",
    "    ax.plot(Xi, Yi, \"o\", ms=2, alpha=0.5, label=f\"Subset index {idx}\")\n",
    "print(Xi.shape)\n",
    "\n",
    "setup_plot(ax, \"Training data\")\n",
    "ax.legend(ncol=2)\n",
    "\n",
    "plt.show()"
   ]
  },
  {
   "cell_type": "markdown",
   "metadata": {},
   "source": [
    "### 2. Prior GP\n",
    "\n",
    "Here, we set up the prior GP with a constant mean at zero and rational quadratic kernel as covariance function."
   ]
  },
  {
   "cell_type": "code",
   "execution_count": 12,
   "metadata": {
    "execution": {
     "iopub.execute_input": "2023-06-06T09:59:28.255290Z",
     "iopub.status.busy": "2023-06-06T09:59:28.255206Z",
     "iopub.status.idle": "2023-06-06T09:59:28.257889Z",
     "shell.execute_reply": "2023-06-06T09:59:28.257456Z",
     "shell.execute_reply.started": "2023-06-06T09:59:28.255282Z"
    }
   },
   "outputs": [],
   "source": [
    "import functools\n",
    "\n",
    "\n",
    "def constant_mean(x, c=0.0):\n",
    "    return c * jnp.ones_like(x[:, 0])\n",
    "\n",
    "\n",
    "def RQ_kernel(a, b, ell=1.0, alpha=1.0, theta=1.0):\n",
    "    return theta**2 * (1 + jnp.sum((a - b) / ell, axis=-1) ** 2 / (2 * alpha)) ** (-alpha)"
   ]
  },
  {
   "cell_type": "code",
   "execution_count": 13,
   "metadata": {
    "execution": {
     "iopub.execute_input": "2023-06-06T09:59:28.258929Z",
     "iopub.status.busy": "2023-06-06T09:59:28.258829Z",
     "iopub.status.idle": "2023-06-06T09:59:28.260953Z",
     "shell.execute_reply": "2023-06-06T09:59:28.260684Z",
     "shell.execute_reply.started": "2023-06-06T09:59:28.258920Z"
    }
   },
   "outputs": [],
   "source": [
    "# Define mean, kernel and prior GP\n",
    "mean = functools.partial(constant_mean, c=0.0)\n",
    "kernel = functools.partial(RQ_kernel, ell=1.0, alpha=1.0, theta=0.5)\n",
    "prior = gaussians.GaussianProcess(mean, kernel)"
   ]
  },
  {
   "cell_type": "markdown",
   "metadata": {},
   "source": [
    "### 3. Approach 1\n",
    "\n",
    "We can use the functionality implemented in `gaussians.py` to perform inference in an incremental way: In the first step, we condition the prior on the first subset `(X_list[0], y_list[0])`. From this, we obtain an instance of a `ConditionalGaussianProcess` that we can condition on the next subset `(X_list[1], y_list[1])` etc."
   ]
  },
  {
   "cell_type": "code",
   "execution_count": 14,
   "metadata": {},
   "outputs": [
    {
     "name": "stderr",
     "output_type": "stream",
     "text": [
      "WARNING:jax._src.lib.xla_bridge:No GPU/TPU found, falling back to CPU. (Set TF_CPP_MIN_LOG_LEVEL=0 and rerun for more info.)\n"
     ]
    }
   ],
   "source": [
    "def get_posteriors():\n",
    "    \"\"\"Construct posteriors from prior by conditioning on subsets\"\"\"\n",
    "    \n",
    "    posteriors = [prior]\n",
    "    for posterior_idx, (Xi, Yi) in enumerate(zip(X_list, Y_list)):\n",
    "        \n",
    "        # Compute posterior\n",
    "        posterior = posteriors[-1].condition(Yi, Xi, sigma)\n",
    "        posteriors.append(posterior)\n",
    "    posteriors.pop(0)  # remove prior from list\n",
    "    return posteriors\n",
    "\n",
    "posteriors_A1 = get_posteriors()"
   ]
  },
  {
   "cell_type": "markdown",
   "metadata": {},
   "source": [
    "Let's visualize those posteriors."
   ]
  },
  {
   "cell_type": "code",
   "execution_count": 15,
   "metadata": {},
   "outputs": [
    {
     "ename": "RuntimeError",
     "evalue": "latex was not able to process the following string:\nb'lp'\n\nHere is the full command invocation and its output:\n\nlatex -interaction=nonstopmode --halt-on-error --output-directory=tmpm7gbsun7 b696d330c8701f09122d332b753b0858.tex\n\nThis is pdfTeX, Version 3.141592653-2.6-1.40.22 (TeX Live 2022/dev/Debian) (preloaded format=latex)\n restricted \\write18 enabled.\nentering extended mode\n(./b696d330c8701f09122d332b753b0858.tex\nLaTeX2e <2021-11-15> patch level 1\nL3 programming layer <2022-01-21>\n(/usr/share/texlive/texmf-dist/tex/latex/base/article.cls\nDocument Class: article 2021/10/04 v1.4n Standard LaTeX document class\n(/usr/share/texlive/texmf-dist/tex/latex/base/size10.clo))\n(/usr/share/texlive/texmf-dist/tex/latex/type1cm/type1cm.sty)\n\n! LaTeX Error: File `type1ec.sty' not found.\n\nType X to quit or <RETURN> to proceed,\nor enter new name. (Default extension: sty)\n\nEnter file name: \n! Emergency stop.\n<read *> \n         \nl.8 \\usepackage\n               [utf8]{inputenc}^^M\nNo pages of output.\nTranscript written on tmpm7gbsun7/b696d330c8701f09122d332b753b0858.log.\n\n\n",
     "output_type": "error",
     "traceback": [
      "\u001b[0;31m---------------------------------------------------------------------------\u001b[0m",
      "\u001b[0;31mRuntimeError\u001b[0m                              Traceback (most recent call last)",
      "File \u001b[0;32m~/anaconda3/envs/ml3_10/lib/python3.10/site-packages/IPython/core/formatters.py:340\u001b[0m, in \u001b[0;36mBaseFormatter.__call__\u001b[0;34m(self, obj)\u001b[0m\n\u001b[1;32m    338\u001b[0m     \u001b[39mpass\u001b[39;00m\n\u001b[1;32m    339\u001b[0m \u001b[39melse\u001b[39;00m:\n\u001b[0;32m--> 340\u001b[0m     \u001b[39mreturn\u001b[39;00m printer(obj)\n\u001b[1;32m    341\u001b[0m \u001b[39m# Finally look for special method names\u001b[39;00m\n\u001b[1;32m    342\u001b[0m method \u001b[39m=\u001b[39m get_real_method(obj, \u001b[39mself\u001b[39m\u001b[39m.\u001b[39mprint_method)\n",
      "File \u001b[0;32m~/anaconda3/envs/ml3_10/lib/python3.10/site-packages/IPython/core/pylabtools.py:152\u001b[0m, in \u001b[0;36mprint_figure\u001b[0;34m(fig, fmt, bbox_inches, base64, **kwargs)\u001b[0m\n\u001b[1;32m    149\u001b[0m     \u001b[39mfrom\u001b[39;00m \u001b[39mmatplotlib\u001b[39;00m\u001b[39m.\u001b[39;00m\u001b[39mbackend_bases\u001b[39;00m \u001b[39mimport\u001b[39;00m FigureCanvasBase\n\u001b[1;32m    150\u001b[0m     FigureCanvasBase(fig)\n\u001b[0;32m--> 152\u001b[0m fig\u001b[39m.\u001b[39;49mcanvas\u001b[39m.\u001b[39;49mprint_figure(bytes_io, \u001b[39m*\u001b[39;49m\u001b[39m*\u001b[39;49mkw)\n\u001b[1;32m    153\u001b[0m data \u001b[39m=\u001b[39m bytes_io\u001b[39m.\u001b[39mgetvalue()\n\u001b[1;32m    154\u001b[0m \u001b[39mif\u001b[39;00m fmt \u001b[39m==\u001b[39m \u001b[39m'\u001b[39m\u001b[39msvg\u001b[39m\u001b[39m'\u001b[39m:\n",
      "File \u001b[0;32m~/anaconda3/envs/ml3_10/lib/python3.10/site-packages/matplotlib/backend_bases.py:2342\u001b[0m, in \u001b[0;36mFigureCanvasBase.print_figure\u001b[0;34m(self, filename, dpi, facecolor, edgecolor, orientation, format, bbox_inches, pad_inches, bbox_extra_artists, backend, **kwargs)\u001b[0m\n\u001b[1;32m   2336\u001b[0m     renderer \u001b[39m=\u001b[39m _get_renderer(\n\u001b[1;32m   2337\u001b[0m         \u001b[39mself\u001b[39m\u001b[39m.\u001b[39mfigure,\n\u001b[1;32m   2338\u001b[0m         functools\u001b[39m.\u001b[39mpartial(\n\u001b[1;32m   2339\u001b[0m             print_method, orientation\u001b[39m=\u001b[39morientation)\n\u001b[1;32m   2340\u001b[0m     )\n\u001b[1;32m   2341\u001b[0m     \u001b[39mwith\u001b[39;00m \u001b[39mgetattr\u001b[39m(renderer, \u001b[39m\"\u001b[39m\u001b[39m_draw_disabled\u001b[39m\u001b[39m\"\u001b[39m, nullcontext)():\n\u001b[0;32m-> 2342\u001b[0m         \u001b[39mself\u001b[39;49m\u001b[39m.\u001b[39;49mfigure\u001b[39m.\u001b[39;49mdraw(renderer)\n\u001b[1;32m   2344\u001b[0m \u001b[39mif\u001b[39;00m bbox_inches:\n\u001b[1;32m   2345\u001b[0m     \u001b[39mif\u001b[39;00m bbox_inches \u001b[39m==\u001b[39m \u001b[39m\"\u001b[39m\u001b[39mtight\u001b[39m\u001b[39m\"\u001b[39m:\n",
      "File \u001b[0;32m~/anaconda3/envs/ml3_10/lib/python3.10/site-packages/matplotlib/artist.py:95\u001b[0m, in \u001b[0;36m_finalize_rasterization.<locals>.draw_wrapper\u001b[0;34m(artist, renderer, *args, **kwargs)\u001b[0m\n\u001b[1;32m     93\u001b[0m \u001b[39m@wraps\u001b[39m(draw)\n\u001b[1;32m     94\u001b[0m \u001b[39mdef\u001b[39;00m \u001b[39mdraw_wrapper\u001b[39m(artist, renderer, \u001b[39m*\u001b[39margs, \u001b[39m*\u001b[39m\u001b[39m*\u001b[39mkwargs):\n\u001b[0;32m---> 95\u001b[0m     result \u001b[39m=\u001b[39m draw(artist, renderer, \u001b[39m*\u001b[39;49margs, \u001b[39m*\u001b[39;49m\u001b[39m*\u001b[39;49mkwargs)\n\u001b[1;32m     96\u001b[0m     \u001b[39mif\u001b[39;00m renderer\u001b[39m.\u001b[39m_rasterizing:\n\u001b[1;32m     97\u001b[0m         renderer\u001b[39m.\u001b[39mstop_rasterizing()\n",
      "File \u001b[0;32m~/anaconda3/envs/ml3_10/lib/python3.10/site-packages/matplotlib/artist.py:72\u001b[0m, in \u001b[0;36mallow_rasterization.<locals>.draw_wrapper\u001b[0;34m(artist, renderer)\u001b[0m\n\u001b[1;32m     69\u001b[0m     \u001b[39mif\u001b[39;00m artist\u001b[39m.\u001b[39mget_agg_filter() \u001b[39mis\u001b[39;00m \u001b[39mnot\u001b[39;00m \u001b[39mNone\u001b[39;00m:\n\u001b[1;32m     70\u001b[0m         renderer\u001b[39m.\u001b[39mstart_filter()\n\u001b[0;32m---> 72\u001b[0m     \u001b[39mreturn\u001b[39;00m draw(artist, renderer)\n\u001b[1;32m     73\u001b[0m \u001b[39mfinally\u001b[39;00m:\n\u001b[1;32m     74\u001b[0m     \u001b[39mif\u001b[39;00m artist\u001b[39m.\u001b[39mget_agg_filter() \u001b[39mis\u001b[39;00m \u001b[39mnot\u001b[39;00m \u001b[39mNone\u001b[39;00m:\n",
      "File \u001b[0;32m~/anaconda3/envs/ml3_10/lib/python3.10/site-packages/matplotlib/figure.py:3134\u001b[0m, in \u001b[0;36mFigure.draw\u001b[0;34m(self, renderer)\u001b[0m\n\u001b[1;32m   3132\u001b[0m \u001b[39mif\u001b[39;00m \u001b[39mself\u001b[39m\u001b[39m.\u001b[39maxes \u001b[39mand\u001b[39;00m \u001b[39mself\u001b[39m\u001b[39m.\u001b[39mget_layout_engine() \u001b[39mis\u001b[39;00m \u001b[39mnot\u001b[39;00m \u001b[39mNone\u001b[39;00m:\n\u001b[1;32m   3133\u001b[0m     \u001b[39mtry\u001b[39;00m:\n\u001b[0;32m-> 3134\u001b[0m         \u001b[39mself\u001b[39;49m\u001b[39m.\u001b[39;49mget_layout_engine()\u001b[39m.\u001b[39;49mexecute(\u001b[39mself\u001b[39;49m)\n\u001b[1;32m   3135\u001b[0m     \u001b[39mexcept\u001b[39;00m \u001b[39mValueError\u001b[39;00m:\n\u001b[1;32m   3136\u001b[0m         \u001b[39mpass\u001b[39;00m\n",
      "File \u001b[0;32m~/anaconda3/envs/ml3_10/lib/python3.10/site-packages/matplotlib/layout_engine.py:253\u001b[0m, in \u001b[0;36mConstrainedLayoutEngine.execute\u001b[0;34m(self, fig)\u001b[0m\n\u001b[1;32m    250\u001b[0m w_pad \u001b[39m=\u001b[39m \u001b[39mself\u001b[39m\u001b[39m.\u001b[39m_params[\u001b[39m'\u001b[39m\u001b[39mw_pad\u001b[39m\u001b[39m'\u001b[39m] \u001b[39m/\u001b[39m width\n\u001b[1;32m    251\u001b[0m h_pad \u001b[39m=\u001b[39m \u001b[39mself\u001b[39m\u001b[39m.\u001b[39m_params[\u001b[39m'\u001b[39m\u001b[39mh_pad\u001b[39m\u001b[39m'\u001b[39m] \u001b[39m/\u001b[39m height\n\u001b[0;32m--> 253\u001b[0m \u001b[39mreturn\u001b[39;00m do_constrained_layout(fig, w_pad\u001b[39m=\u001b[39;49mw_pad, h_pad\u001b[39m=\u001b[39;49mh_pad,\n\u001b[1;32m    254\u001b[0m                              wspace\u001b[39m=\u001b[39;49m\u001b[39mself\u001b[39;49m\u001b[39m.\u001b[39;49m_params[\u001b[39m'\u001b[39;49m\u001b[39mwspace\u001b[39;49m\u001b[39m'\u001b[39;49m],\n\u001b[1;32m    255\u001b[0m                              hspace\u001b[39m=\u001b[39;49m\u001b[39mself\u001b[39;49m\u001b[39m.\u001b[39;49m_params[\u001b[39m'\u001b[39;49m\u001b[39mhspace\u001b[39;49m\u001b[39m'\u001b[39;49m],\n\u001b[1;32m    256\u001b[0m                              rect\u001b[39m=\u001b[39;49m\u001b[39mself\u001b[39;49m\u001b[39m.\u001b[39;49m_params[\u001b[39m'\u001b[39;49m\u001b[39mrect\u001b[39;49m\u001b[39m'\u001b[39;49m],\n\u001b[1;32m    257\u001b[0m                              compress\u001b[39m=\u001b[39;49m\u001b[39mself\u001b[39;49m\u001b[39m.\u001b[39;49m_compress)\n",
      "File \u001b[0;32m~/anaconda3/envs/ml3_10/lib/python3.10/site-packages/matplotlib/_constrained_layout.py:119\u001b[0m, in \u001b[0;36mdo_constrained_layout\u001b[0;34m(fig, h_pad, w_pad, hspace, wspace, rect, compress)\u001b[0m\n\u001b[1;32m    109\u001b[0m     \u001b[39mreturn\u001b[39;00m\n\u001b[1;32m    111\u001b[0m \u001b[39mfor\u001b[39;00m _ \u001b[39min\u001b[39;00m \u001b[39mrange\u001b[39m(\u001b[39m2\u001b[39m):\n\u001b[1;32m    112\u001b[0m     \u001b[39m# do the algorithm twice.  This has to be done because decorations\u001b[39;00m\n\u001b[1;32m    113\u001b[0m     \u001b[39m# change size after the first re-position (i.e. x/yticklabels get\u001b[39;00m\n\u001b[0;32m   (...)\u001b[0m\n\u001b[1;32m    117\u001b[0m     \u001b[39m# make margins for all the axes and subfigures in the\u001b[39;00m\n\u001b[1;32m    118\u001b[0m     \u001b[39m# figure.  Add margins for colorbars...\u001b[39;00m\n\u001b[0;32m--> 119\u001b[0m     make_layout_margins(layoutgrids, fig, renderer, h_pad\u001b[39m=\u001b[39;49mh_pad,\n\u001b[1;32m    120\u001b[0m                         w_pad\u001b[39m=\u001b[39;49mw_pad, hspace\u001b[39m=\u001b[39;49mhspace, wspace\u001b[39m=\u001b[39;49mwspace)\n\u001b[1;32m    121\u001b[0m     make_margin_suptitles(layoutgrids, fig, renderer, h_pad\u001b[39m=\u001b[39mh_pad,\n\u001b[1;32m    122\u001b[0m                           w_pad\u001b[39m=\u001b[39mw_pad)\n\u001b[1;32m    124\u001b[0m     \u001b[39m# if a layout is such that a columns (or rows) margin has no\u001b[39;00m\n\u001b[1;32m    125\u001b[0m     \u001b[39m# constraints, we need to make all such instances in the grid\u001b[39;00m\n\u001b[1;32m    126\u001b[0m     \u001b[39m# match in margin size.\u001b[39;00m\n",
      "File \u001b[0;32m~/anaconda3/envs/ml3_10/lib/python3.10/site-packages/matplotlib/_constrained_layout.py:369\u001b[0m, in \u001b[0;36mmake_layout_margins\u001b[0;34m(layoutgrids, fig, renderer, w_pad, h_pad, hspace, wspace)\u001b[0m\n\u001b[1;32m    365\u001b[0m     \u001b[39mreturn\u001b[39;00m\n\u001b[1;32m    367\u001b[0m margin \u001b[39m=\u001b[39m get_margin_from_padding(ax, w_pad\u001b[39m=\u001b[39mw_pad, h_pad\u001b[39m=\u001b[39mh_pad,\n\u001b[1;32m    368\u001b[0m                                  hspace\u001b[39m=\u001b[39mhspace, wspace\u001b[39m=\u001b[39mwspace)\n\u001b[0;32m--> 369\u001b[0m pos, bbox \u001b[39m=\u001b[39m get_pos_and_bbox(ax, renderer)\n\u001b[1;32m    370\u001b[0m \u001b[39m# the margin is the distance between the bounding box of the axes\u001b[39;00m\n\u001b[1;32m    371\u001b[0m \u001b[39m# and its position (plus the padding from above)\u001b[39;00m\n\u001b[1;32m    372\u001b[0m margin[\u001b[39m'\u001b[39m\u001b[39mleft\u001b[39m\u001b[39m'\u001b[39m] \u001b[39m+\u001b[39m\u001b[39m=\u001b[39m pos\u001b[39m.\u001b[39mx0 \u001b[39m-\u001b[39m bbox\u001b[39m.\u001b[39mx0\n",
      "File \u001b[0;32m~/anaconda3/envs/ml3_10/lib/python3.10/site-packages/matplotlib/_constrained_layout.py:617\u001b[0m, in \u001b[0;36mget_pos_and_bbox\u001b[0;34m(ax, renderer)\u001b[0m\n\u001b[1;32m    615\u001b[0m \u001b[39m# pos is in panel co-ords, but we need in figure for the layout\u001b[39;00m\n\u001b[1;32m    616\u001b[0m pos \u001b[39m=\u001b[39m pos\u001b[39m.\u001b[39mtransformed(fig\u001b[39m.\u001b[39mtransSubfigure \u001b[39m-\u001b[39m fig\u001b[39m.\u001b[39mtransFigure)\n\u001b[0;32m--> 617\u001b[0m tightbbox \u001b[39m=\u001b[39m martist\u001b[39m.\u001b[39;49m_get_tightbbox_for_layout_only(ax, renderer)\n\u001b[1;32m    618\u001b[0m \u001b[39mif\u001b[39;00m tightbbox \u001b[39mis\u001b[39;00m \u001b[39mNone\u001b[39;00m:\n\u001b[1;32m    619\u001b[0m     bbox \u001b[39m=\u001b[39m pos\n",
      "File \u001b[0;32m~/anaconda3/envs/ml3_10/lib/python3.10/site-packages/matplotlib/artist.py:1415\u001b[0m, in \u001b[0;36m_get_tightbbox_for_layout_only\u001b[0;34m(obj, *args, **kwargs)\u001b[0m\n\u001b[1;32m   1409\u001b[0m \u001b[39m\u001b[39m\u001b[39m\"\"\"\u001b[39;00m\n\u001b[1;32m   1410\u001b[0m \u001b[39mMatplotlib's `.Axes.get_tightbbox` and `.Axis.get_tightbbox` support a\u001b[39;00m\n\u001b[1;32m   1411\u001b[0m \u001b[39m*for_layout_only* kwarg; this helper tries to use the kwarg but skips it\u001b[39;00m\n\u001b[1;32m   1412\u001b[0m \u001b[39mwhen encountering third-party subclasses that do not support it.\u001b[39;00m\n\u001b[1;32m   1413\u001b[0m \u001b[39m\"\"\"\u001b[39;00m\n\u001b[1;32m   1414\u001b[0m \u001b[39mtry\u001b[39;00m:\n\u001b[0;32m-> 1415\u001b[0m     \u001b[39mreturn\u001b[39;00m obj\u001b[39m.\u001b[39;49mget_tightbbox(\u001b[39m*\u001b[39;49margs, \u001b[39m*\u001b[39;49m\u001b[39m*\u001b[39;49m{\u001b[39m*\u001b[39;49m\u001b[39m*\u001b[39;49mkwargs, \u001b[39m\"\u001b[39;49m\u001b[39mfor_layout_only\u001b[39;49m\u001b[39m\"\u001b[39;49m: \u001b[39mTrue\u001b[39;49;00m})\n\u001b[1;32m   1416\u001b[0m \u001b[39mexcept\u001b[39;00m \u001b[39mTypeError\u001b[39;00m:\n\u001b[1;32m   1417\u001b[0m     \u001b[39mreturn\u001b[39;00m obj\u001b[39m.\u001b[39mget_tightbbox(\u001b[39m*\u001b[39margs, \u001b[39m*\u001b[39m\u001b[39m*\u001b[39mkwargs)\n",
      "File \u001b[0;32m~/anaconda3/envs/ml3_10/lib/python3.10/site-packages/matplotlib/axes/_base.py:4385\u001b[0m, in \u001b[0;36m_AxesBase.get_tightbbox\u001b[0;34m(self, renderer, call_axes_locator, bbox_extra_artists, for_layout_only)\u001b[0m\n\u001b[1;32m   4383\u001b[0m \u001b[39mfor\u001b[39;00m axis \u001b[39min\u001b[39;00m \u001b[39mself\u001b[39m\u001b[39m.\u001b[39m_axis_map\u001b[39m.\u001b[39mvalues():\n\u001b[1;32m   4384\u001b[0m     \u001b[39mif\u001b[39;00m \u001b[39mself\u001b[39m\u001b[39m.\u001b[39maxison \u001b[39mand\u001b[39;00m axis\u001b[39m.\u001b[39mget_visible():\n\u001b[0;32m-> 4385\u001b[0m         ba \u001b[39m=\u001b[39m martist\u001b[39m.\u001b[39;49m_get_tightbbox_for_layout_only(axis, renderer)\n\u001b[1;32m   4386\u001b[0m         \u001b[39mif\u001b[39;00m ba:\n\u001b[1;32m   4387\u001b[0m             bb\u001b[39m.\u001b[39mappend(ba)\n",
      "File \u001b[0;32m~/anaconda3/envs/ml3_10/lib/python3.10/site-packages/matplotlib/artist.py:1415\u001b[0m, in \u001b[0;36m_get_tightbbox_for_layout_only\u001b[0;34m(obj, *args, **kwargs)\u001b[0m\n\u001b[1;32m   1409\u001b[0m \u001b[39m\u001b[39m\u001b[39m\"\"\"\u001b[39;00m\n\u001b[1;32m   1410\u001b[0m \u001b[39mMatplotlib's `.Axes.get_tightbbox` and `.Axis.get_tightbbox` support a\u001b[39;00m\n\u001b[1;32m   1411\u001b[0m \u001b[39m*for_layout_only* kwarg; this helper tries to use the kwarg but skips it\u001b[39;00m\n\u001b[1;32m   1412\u001b[0m \u001b[39mwhen encountering third-party subclasses that do not support it.\u001b[39;00m\n\u001b[1;32m   1413\u001b[0m \u001b[39m\"\"\"\u001b[39;00m\n\u001b[1;32m   1414\u001b[0m \u001b[39mtry\u001b[39;00m:\n\u001b[0;32m-> 1415\u001b[0m     \u001b[39mreturn\u001b[39;00m obj\u001b[39m.\u001b[39;49mget_tightbbox(\u001b[39m*\u001b[39;49margs, \u001b[39m*\u001b[39;49m\u001b[39m*\u001b[39;49m{\u001b[39m*\u001b[39;49m\u001b[39m*\u001b[39;49mkwargs, \u001b[39m\"\u001b[39;49m\u001b[39mfor_layout_only\u001b[39;49m\u001b[39m\"\u001b[39;49m: \u001b[39mTrue\u001b[39;49;00m})\n\u001b[1;32m   1416\u001b[0m \u001b[39mexcept\u001b[39;00m \u001b[39mTypeError\u001b[39;00m:\n\u001b[1;32m   1417\u001b[0m     \u001b[39mreturn\u001b[39;00m obj\u001b[39m.\u001b[39mget_tightbbox(\u001b[39m*\u001b[39margs, \u001b[39m*\u001b[39m\u001b[39m*\u001b[39mkwargs)\n",
      "File \u001b[0;32m~/anaconda3/envs/ml3_10/lib/python3.10/site-packages/matplotlib/axis.py:1341\u001b[0m, in \u001b[0;36mAxis.get_tightbbox\u001b[0;34m(self, renderer, for_layout_only)\u001b[0m\n\u001b[1;32m   1339\u001b[0m \u001b[39m# take care of label\u001b[39;00m\n\u001b[1;32m   1340\u001b[0m \u001b[39mif\u001b[39;00m \u001b[39mself\u001b[39m\u001b[39m.\u001b[39mlabel\u001b[39m.\u001b[39mget_visible():\n\u001b[0;32m-> 1341\u001b[0m     bb \u001b[39m=\u001b[39m \u001b[39mself\u001b[39;49m\u001b[39m.\u001b[39;49mlabel\u001b[39m.\u001b[39;49mget_window_extent(renderer)\n\u001b[1;32m   1342\u001b[0m     \u001b[39m# for constrained/tight_layout, we want to ignore the label's\u001b[39;00m\n\u001b[1;32m   1343\u001b[0m     \u001b[39m# width/height because the adjustments they make can't be improved.\u001b[39;00m\n\u001b[1;32m   1344\u001b[0m     \u001b[39m# this code collapses the relevant direction\u001b[39;00m\n\u001b[1;32m   1345\u001b[0m     \u001b[39mif\u001b[39;00m for_layout_only:\n",
      "File \u001b[0;32m~/anaconda3/envs/ml3_10/lib/python3.10/site-packages/matplotlib/text.py:959\u001b[0m, in \u001b[0;36mText.get_window_extent\u001b[0;34m(self, renderer, dpi)\u001b[0m\n\u001b[1;32m    954\u001b[0m     \u001b[39mraise\u001b[39;00m \u001b[39mRuntimeError\u001b[39;00m(\n\u001b[1;32m    955\u001b[0m         \u001b[39m\"\u001b[39m\u001b[39mCannot get window extent of text w/o renderer. You likely \u001b[39m\u001b[39m\"\u001b[39m\n\u001b[1;32m    956\u001b[0m         \u001b[39m\"\u001b[39m\u001b[39mwant to call \u001b[39m\u001b[39m'\u001b[39m\u001b[39mfigure.draw_without_rendering()\u001b[39m\u001b[39m'\u001b[39m\u001b[39m first.\u001b[39m\u001b[39m\"\u001b[39m)\n\u001b[1;32m    958\u001b[0m \u001b[39mwith\u001b[39;00m cbook\u001b[39m.\u001b[39m_setattr_cm(\u001b[39mself\u001b[39m\u001b[39m.\u001b[39mfigure, dpi\u001b[39m=\u001b[39mdpi):\n\u001b[0;32m--> 959\u001b[0m     bbox, info, descent \u001b[39m=\u001b[39m \u001b[39mself\u001b[39;49m\u001b[39m.\u001b[39;49m_get_layout(\u001b[39mself\u001b[39;49m\u001b[39m.\u001b[39;49m_renderer)\n\u001b[1;32m    960\u001b[0m     x, y \u001b[39m=\u001b[39m \u001b[39mself\u001b[39m\u001b[39m.\u001b[39mget_unitless_position()\n\u001b[1;32m    961\u001b[0m     x, y \u001b[39m=\u001b[39m \u001b[39mself\u001b[39m\u001b[39m.\u001b[39mget_transform()\u001b[39m.\u001b[39mtransform((x, y))\n",
      "File \u001b[0;32m~/anaconda3/envs/ml3_10/lib/python3.10/site-packages/matplotlib/text.py:378\u001b[0m, in \u001b[0;36mText._get_layout\u001b[0;34m(self, renderer)\u001b[0m\n\u001b[1;32m    375\u001b[0m ys \u001b[39m=\u001b[39m []\n\u001b[1;32m    377\u001b[0m \u001b[39m# Full vertical extent of font, including ascenders and descenders:\u001b[39;00m\n\u001b[0;32m--> 378\u001b[0m _, lp_h, lp_d \u001b[39m=\u001b[39m _get_text_metrics_with_cache(\n\u001b[1;32m    379\u001b[0m     renderer, \u001b[39m\"\u001b[39;49m\u001b[39mlp\u001b[39;49m\u001b[39m\"\u001b[39;49m, \u001b[39mself\u001b[39;49m\u001b[39m.\u001b[39;49m_fontproperties,\n\u001b[1;32m    380\u001b[0m     ismath\u001b[39m=\u001b[39;49m\u001b[39m\"\u001b[39;49m\u001b[39mTeX\u001b[39;49m\u001b[39m\"\u001b[39;49m \u001b[39mif\u001b[39;49;00m \u001b[39mself\u001b[39;49m\u001b[39m.\u001b[39;49mget_usetex() \u001b[39melse\u001b[39;49;00m \u001b[39mFalse\u001b[39;49;00m, dpi\u001b[39m=\u001b[39;49m\u001b[39mself\u001b[39;49m\u001b[39m.\u001b[39;49mfigure\u001b[39m.\u001b[39;49mdpi)\n\u001b[1;32m    381\u001b[0m min_dy \u001b[39m=\u001b[39m (lp_h \u001b[39m-\u001b[39m lp_d) \u001b[39m*\u001b[39m \u001b[39mself\u001b[39m\u001b[39m.\u001b[39m_linespacing\n\u001b[1;32m    383\u001b[0m \u001b[39mfor\u001b[39;00m i, line \u001b[39min\u001b[39;00m \u001b[39menumerate\u001b[39m(lines):\n",
      "File \u001b[0;32m~/anaconda3/envs/ml3_10/lib/python3.10/site-packages/matplotlib/text.py:97\u001b[0m, in \u001b[0;36m_get_text_metrics_with_cache\u001b[0;34m(renderer, text, fontprop, ismath, dpi)\u001b[0m\n\u001b[1;32m     94\u001b[0m \u001b[39m\u001b[39m\u001b[39m\"\"\"Call ``renderer.get_text_width_height_descent``, caching the results.\"\"\"\u001b[39;00m\n\u001b[1;32m     95\u001b[0m \u001b[39m# Cached based on a copy of fontprop so that later in-place mutations of\u001b[39;00m\n\u001b[1;32m     96\u001b[0m \u001b[39m# the passed-in argument do not mess up the cache.\u001b[39;00m\n\u001b[0;32m---> 97\u001b[0m \u001b[39mreturn\u001b[39;00m _get_text_metrics_with_cache_impl(\n\u001b[1;32m     98\u001b[0m     weakref\u001b[39m.\u001b[39;49mref(renderer), text, fontprop\u001b[39m.\u001b[39;49mcopy(), ismath, dpi)\n",
      "File \u001b[0;32m~/anaconda3/envs/ml3_10/lib/python3.10/site-packages/matplotlib/text.py:105\u001b[0m, in \u001b[0;36m_get_text_metrics_with_cache_impl\u001b[0;34m(renderer_ref, text, fontprop, ismath, dpi)\u001b[0m\n\u001b[1;32m    101\u001b[0m \u001b[39m@functools\u001b[39m\u001b[39m.\u001b[39mlru_cache(\u001b[39m4096\u001b[39m)\n\u001b[1;32m    102\u001b[0m \u001b[39mdef\u001b[39;00m \u001b[39m_get_text_metrics_with_cache_impl\u001b[39m(\n\u001b[1;32m    103\u001b[0m         renderer_ref, text, fontprop, ismath, dpi):\n\u001b[1;32m    104\u001b[0m     \u001b[39m# dpi is unused, but participates in cache invalidation (via the renderer).\u001b[39;00m\n\u001b[0;32m--> 105\u001b[0m     \u001b[39mreturn\u001b[39;00m renderer_ref()\u001b[39m.\u001b[39;49mget_text_width_height_descent(text, fontprop, ismath)\n",
      "File \u001b[0;32m~/anaconda3/envs/ml3_10/lib/python3.10/site-packages/matplotlib/backends/backend_agg.py:226\u001b[0m, in \u001b[0;36mRendererAgg.get_text_width_height_descent\u001b[0;34m(self, s, prop, ismath)\u001b[0m\n\u001b[1;32m    224\u001b[0m _api\u001b[39m.\u001b[39mcheck_in_list([\u001b[39m\"\u001b[39m\u001b[39mTeX\u001b[39m\u001b[39m\"\u001b[39m, \u001b[39mTrue\u001b[39;00m, \u001b[39mFalse\u001b[39;00m], ismath\u001b[39m=\u001b[39mismath)\n\u001b[1;32m    225\u001b[0m \u001b[39mif\u001b[39;00m ismath \u001b[39m==\u001b[39m \u001b[39m\"\u001b[39m\u001b[39mTeX\u001b[39m\u001b[39m\"\u001b[39m:\n\u001b[0;32m--> 226\u001b[0m     \u001b[39mreturn\u001b[39;00m \u001b[39msuper\u001b[39;49m()\u001b[39m.\u001b[39;49mget_text_width_height_descent(s, prop, ismath)\n\u001b[1;32m    228\u001b[0m \u001b[39mif\u001b[39;00m ismath:\n\u001b[1;32m    229\u001b[0m     ox, oy, width, height, descent, font_image \u001b[39m=\u001b[39m \\\n\u001b[1;32m    230\u001b[0m         \u001b[39mself\u001b[39m\u001b[39m.\u001b[39mmathtext_parser\u001b[39m.\u001b[39mparse(s, \u001b[39mself\u001b[39m\u001b[39m.\u001b[39mdpi, prop)\n",
      "File \u001b[0;32m~/anaconda3/envs/ml3_10/lib/python3.10/site-packages/matplotlib/backend_bases.py:645\u001b[0m, in \u001b[0;36mRendererBase.get_text_width_height_descent\u001b[0;34m(self, s, prop, ismath)\u001b[0m\n\u001b[1;32m    641\u001b[0m fontsize \u001b[39m=\u001b[39m prop\u001b[39m.\u001b[39mget_size_in_points()\n\u001b[1;32m    643\u001b[0m \u001b[39mif\u001b[39;00m ismath \u001b[39m==\u001b[39m \u001b[39m'\u001b[39m\u001b[39mTeX\u001b[39m\u001b[39m'\u001b[39m:\n\u001b[1;32m    644\u001b[0m     \u001b[39m# todo: handle properties\u001b[39;00m\n\u001b[0;32m--> 645\u001b[0m     \u001b[39mreturn\u001b[39;00m \u001b[39mself\u001b[39;49m\u001b[39m.\u001b[39;49mget_texmanager()\u001b[39m.\u001b[39;49mget_text_width_height_descent(\n\u001b[1;32m    646\u001b[0m         s, fontsize, renderer\u001b[39m=\u001b[39;49m\u001b[39mself\u001b[39;49m)\n\u001b[1;32m    648\u001b[0m dpi \u001b[39m=\u001b[39m \u001b[39mself\u001b[39m\u001b[39m.\u001b[39mpoints_to_pixels(\u001b[39m72\u001b[39m)\n\u001b[1;32m    649\u001b[0m \u001b[39mif\u001b[39;00m ismath:\n",
      "File \u001b[0;32m~/anaconda3/envs/ml3_10/lib/python3.10/site-packages/matplotlib/texmanager.py:368\u001b[0m, in \u001b[0;36mTexManager.get_text_width_height_descent\u001b[0;34m(cls, tex, fontsize, renderer)\u001b[0m\n\u001b[1;32m    366\u001b[0m \u001b[39mif\u001b[39;00m tex\u001b[39m.\u001b[39mstrip() \u001b[39m==\u001b[39m \u001b[39m'\u001b[39m\u001b[39m'\u001b[39m:\n\u001b[1;32m    367\u001b[0m     \u001b[39mreturn\u001b[39;00m \u001b[39m0\u001b[39m, \u001b[39m0\u001b[39m, \u001b[39m0\u001b[39m\n\u001b[0;32m--> 368\u001b[0m dvifile \u001b[39m=\u001b[39m \u001b[39mcls\u001b[39;49m\u001b[39m.\u001b[39;49mmake_dvi(tex, fontsize)\n\u001b[1;32m    369\u001b[0m dpi_fraction \u001b[39m=\u001b[39m renderer\u001b[39m.\u001b[39mpoints_to_pixels(\u001b[39m1.\u001b[39m) \u001b[39mif\u001b[39;00m renderer \u001b[39melse\u001b[39;00m \u001b[39m1\u001b[39m\n\u001b[1;32m    370\u001b[0m \u001b[39mwith\u001b[39;00m dviread\u001b[39m.\u001b[39mDvi(dvifile, \u001b[39m72\u001b[39m \u001b[39m*\u001b[39m dpi_fraction) \u001b[39mas\u001b[39;00m dvi:\n",
      "File \u001b[0;32m~/anaconda3/envs/ml3_10/lib/python3.10/site-packages/matplotlib/texmanager.py:300\u001b[0m, in \u001b[0;36mTexManager.make_dvi\u001b[0;34m(cls, tex, fontsize)\u001b[0m\n\u001b[1;32m    298\u001b[0m     \u001b[39mwith\u001b[39;00m TemporaryDirectory(\u001b[39mdir\u001b[39m\u001b[39m=\u001b[39mcwd) \u001b[39mas\u001b[39;00m tmpdir:\n\u001b[1;32m    299\u001b[0m         tmppath \u001b[39m=\u001b[39m Path(tmpdir)\n\u001b[0;32m--> 300\u001b[0m         \u001b[39mcls\u001b[39;49m\u001b[39m.\u001b[39;49m_run_checked_subprocess(\n\u001b[1;32m    301\u001b[0m             [\u001b[39m\"\u001b[39;49m\u001b[39mlatex\u001b[39;49m\u001b[39m\"\u001b[39;49m, \u001b[39m\"\u001b[39;49m\u001b[39m-interaction=nonstopmode\u001b[39;49m\u001b[39m\"\u001b[39;49m, \u001b[39m\"\u001b[39;49m\u001b[39m--halt-on-error\u001b[39;49m\u001b[39m\"\u001b[39;49m,\n\u001b[1;32m    302\u001b[0m              \u001b[39mf\u001b[39;49m\u001b[39m\"\u001b[39;49m\u001b[39m--output-directory=\u001b[39;49m\u001b[39m{\u001b[39;49;00mtmppath\u001b[39m.\u001b[39;49mname\u001b[39m}\u001b[39;49;00m\u001b[39m\"\u001b[39;49m,\n\u001b[1;32m    303\u001b[0m              \u001b[39mf\u001b[39;49m\u001b[39m\"\u001b[39;49m\u001b[39m{\u001b[39;49;00mtexfile\u001b[39m.\u001b[39;49mname\u001b[39m}\u001b[39;49;00m\u001b[39m\"\u001b[39;49m], tex, cwd\u001b[39m=\u001b[39;49mcwd)\n\u001b[1;32m    304\u001b[0m         (tmppath \u001b[39m/\u001b[39m Path(dvifile)\u001b[39m.\u001b[39mname)\u001b[39m.\u001b[39mreplace(dvifile)\n\u001b[1;32m    305\u001b[0m \u001b[39mreturn\u001b[39;00m dvifile\n",
      "File \u001b[0;32m~/anaconda3/envs/ml3_10/lib/python3.10/site-packages/matplotlib/texmanager.py:263\u001b[0m, in \u001b[0;36mTexManager._run_checked_subprocess\u001b[0;34m(cls, command, tex, cwd)\u001b[0m\n\u001b[1;32m    259\u001b[0m     \u001b[39mraise\u001b[39;00m \u001b[39mRuntimeError\u001b[39;00m(\n\u001b[1;32m    260\u001b[0m         \u001b[39m'\u001b[39m\u001b[39mFailed to process string with tex because \u001b[39m\u001b[39m{}\u001b[39;00m\u001b[39m could not be \u001b[39m\u001b[39m'\u001b[39m\n\u001b[1;32m    261\u001b[0m         \u001b[39m'\u001b[39m\u001b[39mfound\u001b[39m\u001b[39m'\u001b[39m\u001b[39m.\u001b[39mformat(command[\u001b[39m0\u001b[39m])) \u001b[39mfrom\u001b[39;00m \u001b[39mexc\u001b[39;00m\n\u001b[1;32m    262\u001b[0m \u001b[39mexcept\u001b[39;00m subprocess\u001b[39m.\u001b[39mCalledProcessError \u001b[39mas\u001b[39;00m exc:\n\u001b[0;32m--> 263\u001b[0m     \u001b[39mraise\u001b[39;00m \u001b[39mRuntimeError\u001b[39;00m(\n\u001b[1;32m    264\u001b[0m         \u001b[39m'\u001b[39m\u001b[39m{prog}\u001b[39;00m\u001b[39m was not able to process the following string:\u001b[39m\u001b[39m\\n\u001b[39;00m\u001b[39m'\u001b[39m\n\u001b[1;32m    265\u001b[0m         \u001b[39m'\u001b[39m\u001b[39m{tex!r}\u001b[39;00m\u001b[39m\\n\u001b[39;00m\u001b[39m\\n\u001b[39;00m\u001b[39m'\u001b[39m\n\u001b[1;32m    266\u001b[0m         \u001b[39m'\u001b[39m\u001b[39mHere is the full command invocation and its output:\u001b[39m\u001b[39m\\n\u001b[39;00m\u001b[39m\\n\u001b[39;00m\u001b[39m'\u001b[39m\n\u001b[1;32m    267\u001b[0m         \u001b[39m'\u001b[39m\u001b[39m{format_command}\u001b[39;00m\u001b[39m\\n\u001b[39;00m\u001b[39m\\n\u001b[39;00m\u001b[39m'\u001b[39m\n\u001b[1;32m    268\u001b[0m         \u001b[39m'\u001b[39m\u001b[39m{exc}\u001b[39;00m\u001b[39m\\n\u001b[39;00m\u001b[39m\\n\u001b[39;00m\u001b[39m'\u001b[39m\u001b[39m.\u001b[39mformat(\n\u001b[1;32m    269\u001b[0m             prog\u001b[39m=\u001b[39mcommand[\u001b[39m0\u001b[39m],\n\u001b[1;32m    270\u001b[0m             format_command\u001b[39m=\u001b[39mcbook\u001b[39m.\u001b[39m_pformat_subprocess(command),\n\u001b[1;32m    271\u001b[0m             tex\u001b[39m=\u001b[39mtex\u001b[39m.\u001b[39mencode(\u001b[39m'\u001b[39m\u001b[39municode_escape\u001b[39m\u001b[39m'\u001b[39m),\n\u001b[1;32m    272\u001b[0m             exc\u001b[39m=\u001b[39mexc\u001b[39m.\u001b[39moutput\u001b[39m.\u001b[39mdecode(\u001b[39m'\u001b[39m\u001b[39mutf-8\u001b[39m\u001b[39m'\u001b[39m, \u001b[39m'\u001b[39m\u001b[39mbackslashreplace\u001b[39m\u001b[39m'\u001b[39m))\n\u001b[1;32m    273\u001b[0m         ) \u001b[39mfrom\u001b[39;00m \u001b[39mNone\u001b[39;00m\n\u001b[1;32m    274\u001b[0m _log\u001b[39m.\u001b[39mdebug(report)\n\u001b[1;32m    275\u001b[0m \u001b[39mreturn\u001b[39;00m report\n",
      "\u001b[0;31mRuntimeError\u001b[0m: latex was not able to process the following string:\nb'lp'\n\nHere is the full command invocation and its output:\n\nlatex -interaction=nonstopmode --halt-on-error --output-directory=tmpm7gbsun7 b696d330c8701f09122d332b753b0858.tex\n\nThis is pdfTeX, Version 3.141592653-2.6-1.40.22 (TeX Live 2022/dev/Debian) (preloaded format=latex)\n restricted \\write18 enabled.\nentering extended mode\n(./b696d330c8701f09122d332b753b0858.tex\nLaTeX2e <2021-11-15> patch level 1\nL3 programming layer <2022-01-21>\n(/usr/share/texlive/texmf-dist/tex/latex/base/article.cls\nDocument Class: article 2021/10/04 v1.4n Standard LaTeX document class\n(/usr/share/texlive/texmf-dist/tex/latex/base/size10.clo))\n(/usr/share/texlive/texmf-dist/tex/latex/type1cm/type1cm.sty)\n\n! LaTeX Error: File `type1ec.sty' not found.\n\nType X to quit or <RETURN> to proceed,\nor enter new name. (Default extension: sty)\n\nEnter file name: \n! Emergency stop.\n<read *> \n         \nl.8 \\usepackage\n               [utf8]{inputenc}^^M\nNo pages of output.\nTranscript written on tmpm7gbsun7/b696d330c8701f09122d332b753b0858.log.\n\n\n"
     ]
    },
    {
     "data": {
      "text/plain": [
       "<Figure size 900x400 with 6 Axes>"
      ]
     },
     "metadata": {},
     "output_type": "display_data"
    }
   ],
   "source": [
    "from math import ceil\n",
    "\n",
    "\n",
    "def get_nrows_ncols(nplots):\n",
    "    nrows = ceil((1/3) * nplots)\n",
    "    ncols = ceil(nplots / nrows)\n",
    "    return nrows, ncols\n",
    "\n",
    "\n",
    "def plot_conditional_gps(list_of_conditional_gps):\n",
    "    \"\"\"Plot a list of conditional GPs in one figure.\"\"\"\n",
    "    \n",
    "    # Concatenate training data\n",
    "    X = jnp.concatenate(X_list, axis=0)\n",
    "    Y = jnp.concatenate(Y_list, axis=0)\n",
    "    \n",
    "    # Define grid of subplots\n",
    "    num_gps = len(list_of_conditional_gps)\n",
    "    nrows, ncols = get_nrows_ncols(num_gps)\n",
    "    fig, axs = plt.subplots(\n",
    "        nrows, \n",
    "        ncols, \n",
    "        figsize=(ncols * 3, nrows * 2),\n",
    "        sharex=True,\n",
    "        sharey=True,\n",
    "    )\n",
    "    \n",
    "    # Plot GPs\n",
    "    for idx, gp in enumerate(list_of_conditional_gps):\n",
    "        ax = axs.flatten()[idx]\n",
    "\n",
    "        # Plot GP and data\n",
    "        ax.plot(X, Y, \".\", ms=5, alpha=0.2)\n",
    "        ax.plot(gp.X, gp.y, \".\", ms=3)\n",
    "        gp.plot(ax, X_test, color=\"k\", std_kwargs={\"alpha\": 0.2})\n",
    "        \n",
    "        setup_plot(ax, f\"Posterior {idx + 1}\")\n",
    "    plt.show()\n",
    "    \n",
    "plot_conditional_gps(posteriors_A1)"
   ]
  },
  {
   "cell_type": "markdown",
   "metadata": {},
   "source": [
    "Hm, that took quite some time. Let's investigate the runtime in more detail."
   ]
  },
  {
   "cell_type": "code",
   "execution_count": null,
   "metadata": {
    "execution": {
     "iopub.execute_input": "2023-06-06T09:59:28.261361Z",
     "iopub.status.busy": "2023-06-06T09:59:28.261275Z",
     "iopub.status.idle": "2023-06-06T09:59:45.167764Z",
     "shell.execute_reply": "2023-06-06T09:59:45.167419Z",
     "shell.execute_reply.started": "2023-06-06T09:59:28.261353Z"
    },
    "scrolled": true
   },
   "outputs": [],
   "source": [
    "def measure_eval_times(nreps=3):\n",
    "    \"\"\"Construct posteriors and measure the time required for evaluating\n",
    "    them on `X_test`\"\"\"\n",
    "    \n",
    "    posteriors = [prior]\n",
    "    eval_times = np.zeros((nreps, len(X_list)))\n",
    "    for posterior_idx, (Xi, Yi) in enumerate(zip(X_list, Y_list)):\n",
    "        for rep_idx in range(nreps):\n",
    "            \n",
    "            # Measure the time for evaluating the posterior on `X_test`\n",
    "            start_time = time()\n",
    "            posterior = posteriors[-1].condition(Yi, Xi, sigma)\n",
    "            posterior(X_test)\n",
    "            eval_times[rep_idx, posterior_idx] = time() - start_time\n",
    "        posteriors.append(posterior)\n",
    "    \n",
    "    return eval_times\n",
    "\n",
    "eval_times_A1 = measure_eval_times()"
   ]
  },
  {
   "cell_type": "code",
   "execution_count": null,
   "metadata": {
    "execution": {
     "iopub.execute_input": "2023-06-06T09:59:45.172302Z",
     "iopub.status.busy": "2023-06-06T09:59:45.172208Z",
     "iopub.status.idle": "2023-06-06T09:59:45.175768Z",
     "shell.execute_reply": "2023-06-06T09:59:45.175338Z",
     "shell.execute_reply.started": "2023-06-06T09:59:45.172293Z"
    }
   },
   "outputs": [],
   "source": [
    "import matplotlib.colors as mcolors\n",
    "COLS = list(mcolors.TABLEAU_COLORS.values())\n",
    "\n",
    "\n",
    "def plot_eval_times(list_of_eval_times):\n",
    "    \"\"\"Plot the measured evaluation times. Entry 0 in `list_of_eval_times`\n",
    "    is assumed to belong to approach 1, entry 1 to approach 2 etc.\n",
    "    \"\"\"\n",
    "    \n",
    "    fig, ax = plt.subplots(1, 1, figsize=(4, 3))\n",
    "    \n",
    "    for idx, eval_times in enumerate(list_of_eval_times):\n",
    "        ax.plot(eval_times.T, \"o\", ms=3, c=COLS[idx])\n",
    "        label = f\"Approach {idx + 1} (median)\"\n",
    "        ax.plot(np.median(eval_times, axis=0), \"-\", c=COLS[idx], label=label)\n",
    "    \n",
    "    # General plot settings\n",
    "    ax.set_xlabel(\"GP index\")\n",
    "    ax.set_ylabel(\"Evaluation time in seconds\")\n",
    "    ax.grid()\n",
    "    ax.legend()\n",
    "    ax.set_yscale(\"log\")\n",
    "    ax.set_title(f\"Evaluation Times\")\n",
    "\n",
    "    plt.show()\n",
    "    \n",
    "plot_eval_times([eval_times_A1])"
   ]
  },
  {
   "cell_type": "code",
   "execution_count": null,
   "metadata": {
    "execution": {
     "iopub.execute_input": "2023-06-06T09:59:58.217375Z",
     "iopub.status.busy": "2023-06-06T09:59:58.217277Z",
     "iopub.status.idle": "2023-06-06T09:59:58.220314Z",
     "shell.execute_reply": "2023-06-06T09:59:58.219922Z",
     "shell.execute_reply.started": "2023-06-06T09:59:58.217366Z"
    }
   },
   "outputs": [],
   "source": [
    "# Determine the slopes of the log evaluation time\n",
    "eval_times_A1_median = np.median(eval_times_A1, axis=0)\n",
    "slopes = eval_times_A1_median[1:] / eval_times_A1_median[:5]\n",
    "print(\"slopes = \", slopes)"
   ]
  },
  {
   "cell_type": "markdown",
   "metadata": {},
   "source": [
    "**Observations:** The logarithmic plot shows that the runtime increases approximately exponentially reaching up to 10 seconds (on your machine, it may be different of course) for the last posterior. The runtime increases by a factor of around 3-4 for each additional subset of data. \n",
    "\n",
    "**Task:** What's going on here? Why is the runtime increasing approximately exponentially?\n",
    "\n",
    "**Your answer:** TODO"
   ]
  },
  {
   "cell_type": "markdown",
   "metadata": {},
   "source": [
    "### 4. Approach 2\n",
    "\n",
    "Here, we condition the prior on a growing data set. For this, we overwrite the `condition` method of the `ConditionalGaussianProcess` class."
   ]
  },
  {
   "cell_type": "code",
   "execution_count": null,
   "metadata": {
    "execution": {
     "iopub.execute_input": "2023-06-06T09:59:58.220932Z",
     "iopub.status.busy": "2023-06-06T09:59:58.220828Z",
     "iopub.status.idle": "2023-06-06T09:59:58.224427Z",
     "shell.execute_reply": "2023-06-06T09:59:58.224103Z",
     "shell.execute_reply.started": "2023-06-06T09:59:58.220924Z"
    }
   },
   "outputs": [],
   "source": [
    "from gaussians import Gaussian, ConditionalGaussianProcess\n",
    "\n",
    "\n",
    "def condition_on_prior(self, y_new, X_new, sigma):\n",
    "    \n",
    "    # Check data\n",
    "    y_new = jnp.atleast_1d(y_new)\n",
    "    X_new = jnp.atleast_2d(X_new)\n",
    "\n",
    "    # Concatenate data\n",
    "    X_both = jnp.concatenate([self.X, X_new], axis=0)\n",
    "    y_both = jnp.concatenate([self.y, y_new], axis=0)\n",
    "    \n",
    "    # Concatenate Gaussians \n",
    "    mu_new = jnp.zeros_like(y_new)\n",
    "    mu_both = jnp.concatenate([self.epsilon.mu, mu_new], axis=0)\n",
    "    \n",
    "    Sigma_new = sigma * jnp.eye(len(y_new))\n",
    "    Sigma_both = jax.scipy.linalg.block_diag(self.epsilon.Sigma, Sigma_new)\n",
    "    \n",
    "    epsilon_both = Gaussian(mu=mu_both, Sigma=Sigma_both)\n",
    "\n",
    "    # Build conditional GP from prior (!)\n",
    "    return ConditionalGaussianProcess(self.prior, y=y_both, X=X_both, epsilon=epsilon_both)\n",
    "\n",
    "# Assign method to class\n",
    "ConditionalGaussianProcess.condition = condition_on_prior"
   ]
  },
  {
   "cell_type": "code",
   "execution_count": null,
   "metadata": {
    "execution": {
     "iopub.execute_input": "2023-06-06T09:59:58.225049Z",
     "iopub.status.busy": "2023-06-06T09:59:58.224908Z",
     "iopub.status.idle": "2023-06-06T10:00:00.135612Z",
     "shell.execute_reply": "2023-06-06T10:00:00.135250Z",
     "shell.execute_reply.started": "2023-06-06T09:59:58.225040Z"
    }
   },
   "outputs": [],
   "source": [
    "# Evaluate approach 2\n",
    "posteriors_A2 = get_posteriors()\n",
    "eval_times_A2 = measure_eval_times()"
   ]
  },
  {
   "cell_type": "markdown",
   "metadata": {},
   "source": [
    "**Note:** In theory, you can show that the posteriors from approaches 1 and 2 are identical, i.e. conditioning multiple times in a convoluted manner (approach 1) is equivalent to conditioning on the union of the subsets (approach 2). Let's check if we can confirm this claim empirically.\n",
    "\n",
    "**Task:** Evaluate the posteriors on `X_test` and check if the resulting Gaussian distributions are identical (`jnp.allclose` might be useful here)."
   ]
  },
  {
   "cell_type": "code",
   "execution_count": null,
   "metadata": {},
   "outputs": [],
   "source": [
    "# TODO"
   ]
  },
  {
   "cell_type": "code",
   "execution_count": null,
   "metadata": {
    "execution": {
     "iopub.execute_input": "2023-06-06T10:00:04.138134Z",
     "iopub.status.busy": "2023-06-06T10:00:04.138044Z",
     "iopub.status.idle": "2023-06-06T10:00:05.254424Z",
     "shell.execute_reply": "2023-06-06T10:00:05.254076Z",
     "shell.execute_reply.started": "2023-06-06T10:00:04.138126Z"
    }
   },
   "outputs": [],
   "source": [
    "# Visualizations\n",
    "plot_conditional_gps(posteriors_A2)\n",
    "plot_eval_times([eval_times_A1, eval_times_A2])"
   ]
  },
  {
   "cell_type": "markdown",
   "metadata": {},
   "source": [
    "### 5. Approach 3\n",
    "\n",
    "While approach 2 is less inefficient, it is still quite wasteful: For every new subset, the posterior GP is built entirely from scratch! This can be improved by exchanging information between the posteriors: Simply put, a posterior that is conditioned on some data set should inform the next posterior what it has already learned about the data. Before we dive into that, we need to get the theory straight.\n",
    "\n",
    "Our goal is to condition the GP on a data set $(X, y)$ that is the union of $(X_{old}, y_{old})$ and $(X_{new}, y_{new})$. Let's assume that we have conditioned a GP on $(X_{old}, y_{old})$ and have already triggered the computation of its properties. So, in particular, the following quantities are already cached:\n",
    "\n",
    "1. `predictive_covariance`: $k(X_{old}, X_{old}) + \\sigma^2 I$\n",
    "2. `predictive_mean`: $m(X_{old}) + \\mu(X_{old})$\n",
    "3. `predictive_covariance_cho`: the Cholesky factorization of `predictive_covariance`\n",
    "4. `representer_weights`: $[k(X_{old}, X_{old}) + \\sigma^2 I]^{-1} (y_{old} - m(X_{old}) + \\mu(X_{old}))$\n",
    "\n",
    "**Improved version:** Now, the core idea is to use the quantities above to save computations when conditioning on $(X, y)$.\n",
    "\n",
    "5. `predictive_covariance`: This matrix now has the following block structure:\n",
    "$$\n",
    "k(X, X) + \\sigma^2 I \n",
    "= \n",
    "\\left(\n",
    "\\begin{array}{@{}c|c@{}}\n",
    "k(X_{old}, X_{old}) + \\sigma^2 I \n",
    "& \n",
    "k(X_{old}, X_{new}) \\\\\n",
    "\\hline\n",
    "k(X_{new}, X_{old})\n",
    "& \n",
    "k(X_{new}, X_{new}) + \\sigma^2 I \n",
    "\\end{array}\n",
    "\\right)\n",
    "=: \n",
    "\\left(\n",
    "\\begin{array}{@{}c|c@{}}\n",
    "A & B \\\\ \\hline C & D\n",
    "\\end{array}\n",
    "\\right).\n",
    "$$\n",
    "If we have already conditioned on $(X_{old}, X_{old})$, block $A$ was already computed (see 1. above) and we only have to evaluate the remaining blocks $B$, $C$ and $D$.\n",
    "6. `predictive_mean`: The predictive mean also splits into two parts \n",
    "$$\n",
    "m(X) + \\mu(X)\n",
    "= \n",
    "\\begin{pmatrix}\n",
    "  m(X_{old}) + \\mu(X_{old}) \\\\\n",
    "\\hline\n",
    "  m(X_{new}) + \\mu(X_{new})\n",
    "\\end{pmatrix}\n",
    "=:\n",
    "\\begin{pmatrix}\n",
    "  a \\\\ \\hline b\n",
    "\\end{pmatrix}.\n",
    "$$\n",
    "Note that $a$ was already computed, see 2. above.\n",
    "7. `predictive_covariance_cho`: In order to compute a Cholesky factorization of $k(X, X) + \\sigma^2 I$, we can use that we already have the Cholesky factor $A^{1/2}$ of $A$, see 3. above. It should be clear from theory exercise 1 (b) on the current exercise sheet how to construct the Cholesky factor for $k(X, X) + \\sigma^2 I$.\n",
    "8. `representer_weights`: We already computed the representer weights $A^{-1} \\cdot u$, with $u = y_{old} - a$, see 4. above. Now, we have to solve a larger linear system\n",
    "$$\n",
    "\\left(\n",
    "\\begin{array}{@{}c|c@{}}\n",
    "A & B \\\\ \\hline C & D\n",
    "\\end{array}\n",
    "\\right)\n",
    "\\cdot \n",
    "\\begin{pmatrix}\n",
    "  x \\\\ \\hline y\n",
    "\\end{pmatrix}\n",
    "= \n",
    "\\begin{pmatrix}\n",
    "  u \\\\ \\hline v\n",
    "\\end{pmatrix}\n",
    "$$\n",
    "with $v = y_{new} - b$ and the unknowns $x$ and $y$. After computing $v$, $y$ and $x$ are given by\n",
    "\\begin{align}\n",
    "y &= Q^{-1} (v - C A^{-1} u) \\\\\n",
    "x &= A^{-1}u - A^{-1} B y,\n",
    "\\end{align}\n",
    "where $Q = D - C A^{-1} B$ is the so-called [Schur-complement](https://en.wikipedia.org/wiki/Schur_complement#Application_to_solving_linear_equations). Note: All necessary quantities (like $Q^{1/2}$ and $A^{-1} u$) were already computed in previous steps.\n",
    "\n",
    "**Task:** Implement an improved version of the condition method that constructs 5, 6, 7, and 8. Try to make this as efficient as possible by using the quantities 1, 2, 3, and 4. Make sure that the resulting posteriors are the same as the ones from approach 2 (e.g. by evaluating them on the same test data and comparing the Gaussians)."
   ]
  },
  {
   "cell_type": "code",
   "execution_count": null,
   "metadata": {},
   "outputs": [],
   "source": [
    "from gaussians import Gaussian, ConditionalGaussianProcess\n",
    "\n",
    "\n",
    "def condition_on_prior_improved(self, y_new, X_new, sigma):\n",
    "    \n",
    "    # Check data\n",
    "    y_new = jnp.atleast_1d(y_new)\n",
    "    X_new = jnp.atleast_2d(X_new)\n",
    "\n",
    "    # Concatenate data\n",
    "    X_both = jnp.concatenate([self.X, X_new], axis=0)\n",
    "    y_both = jnp.concatenate([self.y, y_new], axis=0)\n",
    "    \n",
    "    # Concatenate Gaussians \n",
    "    mu_new = jnp.zeros_like(y_new)\n",
    "    mu_both = jnp.concatenate([self.epsilon.mu, mu_new], axis=0)\n",
    "    \n",
    "    Sigma_new = sigma * jnp.eye(len(y_new))\n",
    "    Sigma_both = jax.scipy.linalg.block_diag(self.epsilon.Sigma, Sigma_new)\n",
    "    \n",
    "    epsilon_both = Gaussian(mu=mu_both, Sigma=Sigma_both)\n",
    "\n",
    "    # Build conditional GP from prior (!)\n",
    "    cond_gp = ConditionalGaussianProcess(self.prior, y=y_both, X=X_both, epsilon=epsilon_both)\n",
    "    \n",
    "    \n",
    "    # ===========================================\n",
    "    # 5. predictive_covariance\n",
    "    # ===========================================\n",
    "    # TODO\n",
    "    # cond_gp.predictive_covariance = ...\n",
    "    \n",
    "    \n",
    "    # ===========================================\n",
    "    # 6. predictive_mean\n",
    "    # ===========================================\n",
    "    # TODO\n",
    "    # cond_gp.predictive_mean = ...\n",
    "    \n",
    "    \n",
    "    # ===========================================\n",
    "    # 7. predictive_covariance_cho\n",
    "    # ===========================================\n",
    "    # TODO\n",
    "    # cond_gp.predictive_covariance_cho = ...\n",
    "    \n",
    "    \n",
    "    # ===========================================\n",
    "    # 8. representer_weights\n",
    "    # ===========================================\n",
    "    # TODO\n",
    "    # cond_gp.representer_weights = ...\n",
    "    \n",
    "    return cond_gp\n",
    "\n",
    "# Assign method to class\n",
    "ConditionalGaussianProcess.condition = condition_on_prior_improved\n",
    "\n",
    "# Evaluate approach 3\n",
    "# posteriors_A3 = get_posteriors()\n",
    "# eval_times_A3 = measure_eval_times()\n",
    "\n",
    "# Make sure that the posteriors are identical to the ones from approach 2\n",
    "# TODO\n",
    "\n",
    "# Visualizations\n",
    "# plot_conditional_gps(posteriors_A3)\n",
    "# plot_eval_times([eval_times_A1, eval_times_A2, eval_times_A3])"
   ]
  }
 ],
 "metadata": {
  "kernelspec": {
   "display_name": "Python 3 (ipykernel)",
   "language": "python",
   "name": "python3"
  },
  "language_info": {
   "codemirror_mode": {
    "name": "ipython",
    "version": 3
   },
   "file_extension": ".py",
   "mimetype": "text/x-python",
   "name": "python",
   "nbconvert_exporter": "python",
   "pygments_lexer": "ipython3",
   "version": "3.10.11"
  }
 },
 "nbformat": 4,
 "nbformat_minor": 4
}
