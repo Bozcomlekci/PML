{
 "cells": [
  {
   "attachments": {},
   "cell_type": "markdown",
   "id": "8fbad921-8b0e-4d3a-81c2-232554356e32",
   "metadata": {},
   "source": [
    "# Probabilistic Machine Learning\n",
    "<div style=\"text-align: right\"> University of Tübingen, Summer Term 2023  &copy; 2023 P. Hennig </div>\n",
    "\n",
    "**Exercise Sheet No. 1 — Setting Up**\n",
    "\n",
    "\n",
    "Submission by:\n",
    "\n",
    "+ Batuhan, Oezcoemlekci, Matrikelnummer: 6300476\n",
    "\n",
    "+ Aakarsh, Nair, Matrikelnummer: 6546577"
   ]
  },
  {
   "attachments": {},
   "cell_type": "markdown",
   "id": "527c787f",
   "metadata": {},
   "source": [
    "## Exercise 1.1"
   ]
  },
  {
   "attachments": {},
   "cell_type": "markdown",
   "id": "a265337b",
   "metadata": {},
   "source": [
    "Assume that, if A is true, B becomes more plausible. That is,\n",
    "P(B|A) ≥ P(B).\n",
    "\n",
    "Using the rules of probability (sum rule and product rule) as stated in the lecture, show\n",
    "the following relationships (stated in the lecture without proof)\n",
    "\n",
    "NOTE that sum and product rule implies the Bayes' Rule. Also note that any probability is between [0,1].  \n",
    "\n",
    "#### (a) P(B|¬A) ≤ P(B) (“If A is false, B becomes less plausible”)\n",
    "\n",
    "$$P(B|A) ≥ P(B)$$\n",
    "$$P(B,A)/P(A) ≥ P(B)$$\n",
    "$$P(A|B)P(B)/P(A) ≥ P(B)$$\n",
    "$$1-P(A|B) ≤ 1-P(A)$$\n",
    "$$P(¬A|B) ≤ P(¬A)$$\n",
    "$$P(B|¬A)P(¬A)/P(B) ≤ P(¬A)$$\n",
    "$$P(B|¬A)/P(B) ≤ 1$$\n",
    "$$P(B|¬A) ≤ P(B)$$ \n",
    "$$ QED $$\n",
    "\n",
    "\n",
    "**Longer Variation**\n",
    "\n",
    "\n",
    "We have been given that $P(B|A) \\geq P(B)$, we start by exploring the consequences of this.\n",
    "\n",
    "Using the *law of total probability* we know that: \n",
    "\n",
    "$$\n",
    "    P(B) = P(A) P(B|A) + (1 - P(A)) P(B| \\neg A)\n",
    "$$\n",
    "\n",
    "\n",
    "Where we additionally used that $P(\\neg A) = (1 - P(A))$. \n",
    "\n",
    "Substituting in our given inequality we see that: \n",
    "\n",
    "$$\n",
    "    P(B|A) \\geq P(A) P(B|A) + (1 - P(A)) P(B| \\neg A)\n",
    "$$\n",
    "\n",
    "Simplifying we get the inequality:\n",
    "\n",
    "$$\n",
    "    (1 - P(A)) P(B|A) \\geq (1 - P(A)) P(B | \\neg A)\n",
    "$$\n",
    "\n",
    "We assume $P(A) \\neq 1$, and we know that $P(A) \\leq 1$, by virtue of being a probability distribution.\n",
    "\n",
    "Thus dividing by $(1-P(A))$ on both sides leaves the inequality unaltered, we get: \n",
    "\n",
    "$$\n",
    "    P(B|A) \\geq P(B | \\neg A)\n",
    "$$\n",
    "\n",
    "or $P(B|A)  - P(B| \\neg A) \\geq 0$\n",
    "\n",
    "\n",
    "Now we revisit the law of total probability:\n",
    "$$\n",
    "    P(B) = P(B|A)P(A) + (1 - P(A)) P(B|\\neg A)\n",
    "$$ \n",
    "\n",
    "simplifying we get \n",
    "\n",
    "$$P(B) = P(B|A)P(A)  - P(B| \\neg A) P(A) + P(B | \\neg A)$$\n",
    "\n",
    "Consider the first two terms combined as $P(A) (P(B|A) - P(B| \\neg A))$. From before we have $P(A) \\geq 0 $ and $P(B|A) - P(B| \\neg A) \\geq 0$. Thus the combined term \n",
    "$P(A) (P(B|A) - P(B| \\neg A)) \\geq 0$. Let $\\delta  = P(A) (P(B|A) - P(B| \\neg A)) $ then we have $\\delta \\geq 0$. \n",
    "\n",
    "In our expression we have \n",
    "\n",
    "$$P(B) = \\delta + P(B| \\neg A) , \\delta \\geq 0$$\n",
    "\n",
    "Giving us the inequality we need,  $P(B) \\geq P(B | \\neg A)$\n",
    "\n",
    "\n",
    "#### (b) P(A|B) ≥ P(A) (“If B is true, A becomes more plausible”)\n",
    "\n",
    "$$P(B|A) ≥ P(B)$$\n",
    "$$P(B,A)/P(A) ≥ P(B)$$\n",
    "$$P(A|B)P(B)/P(A) ≥ P(B)$$\n",
    "$$P(A|B)P(B) ≥ P(B)P(A)$$\n",
    "$$P(A|B) ≥ P(A)$$ \n",
    "$$ QED$$\n",
    "\n",
    "\n",
    "**Longer Variation**\n",
    "\n",
    "We have been given that, $P(B|A) \\geq P(B)$, that is if $A$ is true then $B$, \n",
    "becomes more plausible. We can use Bayes' Theorem to rewrite $P(B|A)$ in terms \n",
    "of $P(A|B)$ we note the two are related as \n",
    "\n",
    "$$\n",
    "    P(B|A) = \\frac{P(A|B)P(B)}{P(A)}\n",
    "$$\n",
    "\n",
    "We can substitute this expression for $P(B|A)$ in our given inequality \n",
    "$P(B|A) \\geq P(B)$  we get: \n",
    "\n",
    "$$ \\frac{P(A|B)P(B)}{P(A)} \\geq P(B) $$\n",
    "\n",
    "Multiply both sides of our given inequality by $\\frac{P(A)}{P(B)}$, \n",
    "assuming $P(B) \\neq 0$, this fraction is positive as both values \n",
    "probabilities.\n",
    "\n",
    "This gives us:\n",
    "\n",
    "$$\n",
    "    P(A|B) \\geq P(A)\n",
    "$$\n",
    "\n",
    "\n",
    "#### (c) P(A|¬B) ≤ P(A) (“If B is false, A becomes less plausible”)\n",
    "\n",
    "Starting from the result of (b):\n",
    "$$P(A|B) ≥ P(A)$$\n",
    "$$P(A,B)/P(B) ≥ P(B)$$\n",
    "$$P(B|A)P(A)/P(B) ≥ P(A)$$\n",
    "$$1-P(B|A) ≤ 1-P(B)$$\n",
    "$$P(¬B|A) ≤ P(¬B)$$\n",
    "$$P(A|¬B)P(¬B)/P(A) ≤ P(¬B)$$\n",
    "$$P(A|¬B)/P(A) ≤ 1$$\n",
    "$$P(A|¬B) ≤ P(A)$$ \n",
    "$$ QED $$\n",
    "\n",
    "**Longer Version** \n",
    "\n",
    "From the previous questions we have that , given $P(B|A) \\geq P(B)$, $P(A|B) \\geq P(A)$,  thus \n",
    "our argument for $P(A| \\neg B) \\leq P(B)$ is symmetric to the argument in the first problem but with \n",
    "the variables $A$ and $B$ switched. We only reproduce it here for completeness.\n",
    "\n",
    "Consider the expression $P(A|B) \\geq P(A)$, from the law of total probability for $P(A)$ we have: \n",
    "\n",
    "$$\n",
    "    P(A|B)  \\geq P(A|B) P(B) + P(A | \\neg B) (1 - P(B))\n",
    "$$\n",
    "\n",
    "We additionally used $P(\\neg B) = 1 - P(B)$. \n",
    "\n",
    "Thus factoring and rearranging the terms we get. \n",
    "\n",
    "$$\n",
    "    P(A|B) ( 1 - P(B)) \\geq P(A| \\neg B) ( 1 - P(B))\n",
    "$$\n",
    "\n",
    "Assuming $ P(B) \\leq 1 $ , we also know that $P(B) \\geq 0$, \n",
    "we get.\n",
    "\n",
    "The previous inequality simplifies to : \n",
    "\n",
    "$$\n",
    "    P(A|B)  \\geq P(A | \\neg B)\n",
    "$$\n",
    "\n",
    "Thus let $\\gamma = P(A|B)  -  P(A | \\neg B)$ then we have $\\gamma \\geq 0$.\n",
    "\n",
    "Revisiting the law of total probability for $P(A)$, we have\n",
    "\n",
    "$$\n",
    "    P(A) = P(A| B) P(B) + P(A| \\neg B) (1 - P(B))\n",
    "$$\n",
    "\n",
    "Re-arranging the terms we have\n",
    "$$\n",
    "    P(A) = P(B)(P(A|B) - P(A|\\neg B)) + P(A|\\neg B)\n",
    "$$\n",
    "As both $P(B) \\geq 0 $  and $\\gamma  = P(A|B)  - P(A|\\neg B) \\geq 0 $ we thus have $P(B) \\gamma \\geq 0 $\n",
    "\n",
    "$$\n",
    "    P(A) = P(B) \\gamma + P(A|\\neg B)\n",
    "$$\n",
    "\n",
    "Thus $P(A | \\neg B) \\leq P(A)$."
   ]
  },
  {
   "attachments": {},
   "cell_type": "markdown",
   "id": "b57cf388",
   "metadata": {},
   "source": [
    "\n",
    "Additionally show that probabilistic reasoning includes Boolean logic as a special case, by\n",
    "showing that if A ⇒ B is interpreted as equivalent to P(B | A) = 1, then the following\n",
    "three statements hold:\n",
    "\n",
    "#### (d) P(¬A | ¬B) = 1 (\"modus tollens\")\n",
    "\n",
    "We start with the given statement $$P(B|A)=1$$ from the law of total \n",
    "probability for binary variables A, B we have:\n",
    "\n",
    "$$P(B | A) + P(\\neg B | A) = 1$$\n",
    "\n",
    "Thus $P(\\neg B | A ) = 0$. \n",
    "\n",
    "However we can write an expression for the term $P(A|\\neg B)$ in terms of $P(\\neg B|A)$ using \n",
    "bayes theorem as follows: \n",
    "\n",
    "$$\n",
    "P(A| \\neg B) = \\frac{P(\\neg B|A) P(A)}{P(\\neg B)}\n",
    "$$\n",
    "\n",
    "It follows then that $P(A| \\neg B) = 0$. \n",
    "\n",
    "From the law of total probability we know that: \n",
    "$$P(\\neg A| \\neg B) + P( A | \\neg B) = 1$$\n",
    "\n",
    "Thus it follows that as $P(A| \\neg B) = 0$ that $P(\\neg A | \\neg B) = 1$.\n",
    "\n",
    "\n",
    "#### (e) P(B | ¬A) ≤ P(B) (“If A is false, B becomes less plausible”)\n",
    "\n",
    "We know from the law of probability that \n",
    "$$\n",
    "P(B) = P(B|A) P(A) + P(B| \\neg A) P(\\neg A)\n",
    "$$\n",
    "\n",
    "As shown previously we can rewrite the above expression as\n",
    "\n",
    "$$\n",
    "P(B) = P(A) (P(B|A) - P(B | \\neg A)) + P(B|\\neg A)\n",
    "$$\n",
    "\n",
    "If we let $\\delta = P(B|A) - P(B| \\neg A)$ we have been given that $P(B|A)=1$, thus if we can show that $P(B|\\neg A) = 0$ then $\\delta = 1$. \n",
    "\n",
    "From the previous part we know that $P(\\neg B | \\neg A) = 1$, we also that thus that\n",
    "\n",
    "$$P(\\neg B | \\neg A)  + P( B | \\neg A)  = 1$$\n",
    "\n",
    "Thus we have $P(B| \\neg A) = 0$. Substituting in the equation fro total probability of B we get: \n",
    "\n",
    "$$\n",
    "P(B) = P(A) (1 - 0) + P(B|\\neg A)\n",
    "$$\n",
    "\n",
    "As $P(A) \\geq 0$ from the fact that $P(A)$ is a probability distribution,  \n",
    "we have $P(B) \\geq P(B| \\neg A)$ which can be restated as \n",
    "$P(B|\\neg A) \\leq P(B)$.\n",
    "\n",
    "#### (f) P(A | B) ≥ P(A) (“if B is true, A becomes more plausible”)\n",
    "\n",
    "We have been given that $P(B|A) = 1$, thus we can write an expression for $P(A|B)$ as follows: \n",
    "\n",
    "$$\n",
    "P(A|B) = \\frac{P(B|A) P(A)}{P(B)} = \\frac{P(A)}{P(B)}\n",
    "$$\n",
    "\n",
    "Assuming that $P(B) \\neq 0$ as we know that $P(B) \\in [0,1]$ we know that \n",
    "\n",
    "$$P(A) \\leq \\frac{P(A)}{P(B)}$$\n",
    "\n",
    "in other words we have $P(A) \\leq P(A|B)$ , that is $P(A |B) \\geq P(A)$. "
   ]
  },
  {
   "cell_type": "code",
   "execution_count": 2,
   "id": "26f0f1ef-4ffe-4a26-b2fe-79519665a624",
   "metadata": {
    "execution": {
     "iopub.execute_input": "2023-04-14T10:40:13.577988Z",
     "iopub.status.busy": "2023-04-14T10:40:13.577248Z",
     "iopub.status.idle": "2023-04-14T10:40:15.474851Z",
     "shell.execute_reply": "2023-04-14T10:40:15.474566Z",
     "shell.execute_reply.started": "2023-04-14T10:40:13.577930Z"
    },
    "tags": []
   },
   "outputs": [],
   "source": [
    "from io import StringIO\n",
    "\n",
    "import pandas as pd\n",
    "import requests\n",
    "from jax import numpy as jnp\n",
    "from matplotlib import pyplot as plt\n",
    "from matplotlib import ticker\n",
    "\n",
    "from tueplots import bundles\n",
    "from tueplots.constants.color import rgb\n",
    "\n",
    "plt.rcParams.update(bundles.beamer_moml())\n",
    "plt.rcParams.update({\"figure.dpi\": 200})"
   ]
  },
  {
   "attachments": {},
   "cell_type": "markdown",
   "id": "889eac9d-4fb3-4acd-a928-700de5ab1e5d",
   "metadata": {},
   "source": [
    "## Exercise 1.2 (Coding Exercise)\n",
    "\n",
    "This week's exercise serves as an opener for the course. As a first step, make sure the cell above this works for you. This is mostly to ensure you have `jax` and `tueplots` installed in your local environment, which we will use across the course. If you get errors, try a `pip install jax tueplots pandas`. Consider the well-known Mauna Loa CO$_2$ dataset, which we download directly from [NOAA](https://gml.noaa.gov/ccgg/trends/data.html): "
   ]
  },
  {
   "cell_type": "code",
   "execution_count": 3,
   "id": "7dce364b-3b04-4420-9470-687f37e89a69",
   "metadata": {
    "execution": {
     "iopub.execute_input": "2023-04-14T10:44:44.538576Z",
     "iopub.status.busy": "2023-04-14T10:44:44.537924Z",
     "iopub.status.idle": "2023-04-14T10:44:45.726698Z",
     "shell.execute_reply": "2023-04-14T10:44:45.725509Z",
     "shell.execute_reply.started": "2023-04-14T10:44:44.538531Z"
    },
    "tags": []
   },
   "outputs": [],
   "source": [
    "url = \"https://gml.noaa.gov/webdata/ccgg/trends/co2/co2_weekly_mlo.csv\"\n",
    "s = requests.get(url).text\n",
    "\n",
    "df = pd.read_csv(StringIO(s), sep=\",\", header=51, na_values=\"-999.99\").dropna()\n",
    "X = df[\"decimal\"]\n",
    "Y = df[\"average\"]"
   ]
  },
  {
   "cell_type": "markdown",
   "id": "a1a7ed9f-d069-4243-8336-efbb0039dbce",
   "metadata": {},
   "source": [
    "We do a *very* quick and dirty linear regression on this univariate timeseries."
   ]
  },
  {
   "cell_type": "code",
   "execution_count": 3,
   "id": "11efa735-aed7-4a3a-b0c3-9457222ee144",
   "metadata": {
    "execution": {
     "iopub.execute_input": "2023-04-14T11:35:01.079123Z",
     "iopub.status.busy": "2023-04-14T11:35:01.078233Z",
     "iopub.status.idle": "2023-04-14T11:35:01.094907Z",
     "shell.execute_reply": "2023-04-14T11:35:01.093755Z",
     "shell.execute_reply.started": "2023-04-14T11:35:01.079029Z"
    },
    "tags": []
   },
   "outputs": [
    {
     "name": "stderr",
     "output_type": "stream",
     "text": [
      "WARNING:jax._src.lib.xla_bridge:No GPU/TPU found, falling back to CPU. (Set TF_CPP_MIN_LOG_LEVEL=0 and rerun for more info.)\n"
     ]
    },
    {
     "name": "stdout",
     "output_type": "stream",
     "text": [
      "simple linear regression has train RMSE 3.09\n"
     ]
    }
   ],
   "source": [
    "phi = jnp.stack([jnp.ones(len(X)), jnp.asarray(X)])\n",
    "w = jnp.linalg.solve((phi @ phi.T), phi @ Y)\n",
    "Ypred_LinReg = w[0] + w[1] * X\n",
    "\n",
    "\n",
    "def loss(Yhat):\n",
    "    return jnp.sqrt(((Y - Yhat) ** 2).mean())\n",
    "\n",
    "\n",
    "print(f\"simple linear regression has train RMSE {loss(Ypred_LinReg):0.2f}\")"
   ]
  },
  {
   "cell_type": "markdown",
   "id": "2a692271-e01a-4078-9386-90e4e71dbaab",
   "metadata": {},
   "source": [
    "And make a nice plot:"
   ]
  },
  {
   "cell_type": "code",
   "execution_count": 4,
   "id": "7ff6d2d5-ee4b-4395-85e9-e77e430ff83c",
   "metadata": {
    "execution": {
     "iopub.execute_input": "2023-04-14T11:39:55.967683Z",
     "iopub.status.busy": "2023-04-14T11:39:55.966721Z",
     "iopub.status.idle": "2023-04-14T11:39:56.194556Z",
     "shell.execute_reply": "2023-04-14T11:39:56.194227Z",
     "shell.execute_reply.started": "2023-04-14T11:39:55.967631Z"
    },
    "tags": []
   },
   "outputs": [
    {
     "name": "stderr",
     "output_type": "stream",
     "text": [
      "WARNING:matplotlib.font_manager:findfont: Font family ['sans-serif'] not found. Falling back to DejaVu Sans.\n",
      "WARNING:matplotlib.font_manager:findfont: Generic family 'sans-serif' not found because none of the following families were found: Roboto Condensed\n",
      "WARNING:matplotlib.font_manager:findfont: Font family ['sans-serif'] not found. Falling back to DejaVu Sans.\n",
      "WARNING:matplotlib.font_manager:findfont: Generic family 'sans-serif' not found because none of the following families were found: Roboto Condensed\n",
      "WARNING:matplotlib.font_manager:findfont: Font family ['cursive'] not found. Falling back to DejaVu Sans.\n",
      "WARNING:matplotlib.font_manager:findfont: Generic family 'cursive' not found because none of the following families were found: Apple Chancery, Textile, Zapf Chancery, Sand, Script MT, Felipa, Comic Neue, Comic Sans MS, cursive\n",
      "WARNING:matplotlib.font_manager:findfont: Font family ['sans'] not found. Falling back to DejaVu Sans.\n",
      "WARNING:matplotlib.font_manager:findfont: Generic family 'sans' not found because none of the following families were found: Roboto Condensed\n",
      "WARNING:matplotlib.font_manager:findfont: Font family ['sans'] not found. Falling back to DejaVu Sans.\n",
      "WARNING:matplotlib.font_manager:findfont: Generic family 'sans' not found because none of the following families were found: Roboto Condensed\n",
      "WARNING:matplotlib.font_manager:findfont: Font family ['sans'] not found. Falling back to DejaVu Sans.\n",
      "WARNING:matplotlib.font_manager:findfont: Generic family 'sans' not found because none of the following families were found: Roboto Condensed\n"
     ]
    },
    {
     "data": {
      "image/png": "[encoded data removed]",
      "text/plain": [
       "<Figure size 432x288 with 1 Axes>"
      ]
     },
     "metadata": {
      "needs_background": "light"
     },
     "output_type": "display_data"
    }
   ],
   "source": [
    "fig, ax = plt.subplots()\n",
    "x = jnp.linspace(1980, 2053, 200)\n",
    "ax.plot(x, w[0] + w[1] * x, color=rgb.tue_gray,\n",
    "        lw=4, alpha=0.5, label=\"base model\")\n",
    "ax.plot(X, Y, label=\"data\")\n",
    "\n",
    "ax.set_xlabel(\"Year\")\n",
    "ax.set_ylabel(\"atmospheric CO$_2$ [ppm]\")\n",
    "ax.xaxis.set_major_locator(ticker.MultipleLocator(5))\n",
    "ax.xaxis.set_minor_locator(ticker.MultipleLocator(1))\n",
    "ax.yaxis.set_major_locator(ticker.MultipleLocator(20))\n",
    "ax.yaxis.set_minor_locator(ticker.MultipleLocator(5))\n",
    "ax.set_xlim([1980, 2053])\n",
    "ax.set_ylim([320, 490])\n",
    "ax.grid(which=\"major\", axis=\"both\")\n",
    "ax.legend(loc=\"lower right\", framealpha=1, facecolor=\"w\");"
   ]
  },
  {
   "cell_type": "markdown",
   "id": "9ef88995-babb-44cd-a56a-9452cb7fb8e4",
   "metadata": {},
   "source": [
    "## Your Task:\n",
    "\n",
    "Using your favorite deep learning framework, define and train a supervised (regression) model on this dataset `X,Y`. Use it to predict on the test inputs `x = jnp.linspace(1980, 2053, 200)` from above, i.e. 30 years into the future. Consider the following aspects:\n",
    "* Does your model interpolate between the data (i.e. does it predict the actual pairs $(x_i,y_i)$ correctly, or just approximately)?\n",
    "* Which structural aspects of the data does your model capture (e.g., does its extrapolation also capture the seasonal oscillations present in the data?\n",
    "* Do you know a way to add a form of *confidence* or *uncertainty* to the prediction? Can you make *worst/best-case* and *most likely* predictions for atmospheric CO$_2$ over the next 30 years?\n",
    "\n",
    "**Note:** There is obviously no unique \"correct\" answer to this task. The goal of this exercise is to allow you to reflect on what you may have heard in previous courses about state-of-the-art machine learning models and their training. Deep learning is often perceived as having replaced all of machine learning, and it certainly permeates most of it. However, while deep learning models have led to impressive results on applications like natural language processing and computer vision, they remain nontrivial to train and to interpret; and their extrapolatory behaviour can be underwhelming. Much of the lecture course will be dedicated to understanding models, their training and predictive behaviour better, and to transfer much of what we learn with basic models to deep learning. \n",
    "\n",
    "Thus, we do not expect you to provide a perfect answer here. Answers will get the \"sufficient\" mark (i.e. the associated bonus point in the exam) if they \n",
    "* correctly define any model with at least one nonlinearity\n",
    "* train the model such that its RMSE on the train set (as defined above) is *smaller* than that of linear regression. \n",
    "* amend the plot above with the model's prediction on the testset `x` (not the train set!)"
   ]
  },
  {
   "cell_type": "markdown",
   "id": "90d253a1",
   "metadata": {},
   "source": [
    "#### Fit a Simple Polynomial of Degree 2"
   ]
  },
  {
   "cell_type": "code",
   "execution_count": 7,
   "id": "11cfa226",
   "metadata": {},
   "outputs": [
    {
     "name": "stdout",
     "output_type": "stream",
     "text": [
      "simple polynomial of degree 2 regression has train RMSE 3.06\n"
     ]
    },
    {
     "data": {
      "image/png": "[encoded data removed]",
      "text/plain": [
       "<Figure size 864x576 with 1 Axes>"
      ]
     },
     "metadata": {
      "needs_background": "light"
     },
     "output_type": "display_data"
    }
   ],
   "source": [
    "# Fit a polynomial of degree 2 to the X data.\n",
    "phi = jnp.stack([jnp.ones(len(X)), jnp.asarray(X), jnp.asarray(X) ** 2])\n",
    "w = jnp.linalg.solve((phi @ phi.T), phi @ Y)\n",
    "Ypred_LinReg = w[0] + w[1] * X + w[2] * X ** 2\n",
    "\n",
    "# Compute the RMSE.\n",
    "print(f\"simple polynomial of degree 2 regression has train RMSE {loss(Ypred_LinReg):0.2f}\")\n",
    "\n",
    "# Plot the data and the polynomial.\n",
    "fig, ax = plt.subplots()\n",
    "# Change figure size\n",
    "fig.set_size_inches(12, 8)\n",
    "x = jnp.linspace(1980, 2053, 200)\n",
    "ax.plot(x, w[0] + w[1] * x + w[2] * x ** 2, color=rgb.tue_gray,\n",
    "        lw=4, alpha=0.5, label=\"base model\")\n",
    "ax.plot(X, Y, label=\"data\")\n",
    "\n",
    "ax.set_xlabel(\"Year\")\n",
    "ax.set_ylabel(\"atmospheric CO$_2$ [ppm]\")\n",
    "ax.xaxis.set_major_locator(ticker.MultipleLocator(5))\n",
    "ax.xaxis.set_minor_locator(ticker.MultipleLocator(1))\n",
    "ax.yaxis.set_major_locator(ticker.MultipleLocator(20))\n",
    "ax.yaxis.set_minor_locator(ticker.MultipleLocator(5))\n",
    "ax.set_xlim([1980, 2053])\n",
    "ax.set_ylim([320, 490])\n",
    "ax.grid(which=\"major\", axis=\"both\")\n",
    "ax.legend(loc=\"lower right\", framealpha=1, facecolor=\"w\");"
   ]
  },
  {
   "attachments": {},
   "cell_type": "markdown",
   "id": "23282495",
   "metadata": {},
   "source": [
    "Here nonlinearity is small but present since the training RMSE (3.06) is smaller than that of linear regression (3.09)  "
   ]
  },
  {
   "attachments": {},
   "cell_type": "markdown",
   "id": "cb59db1c",
   "metadata": {},
   "source": [
    "#### Fit a Multi Layer Perceptron  "
   ]
  },
  {
   "cell_type": "code",
   "execution_count": 56,
   "id": "aebf5101",
   "metadata": {},
   "outputs": [
    {
     "data": {
      "image/png": "[encoded data removed]",
      "text/plain": [
       "<Figure size 864x576 with 1 Axes>"
      ]
     },
     "metadata": {
      "needs_background": "light"
     },
     "output_type": "display_data"
    },
    {
     "name": "stdout",
     "output_type": "stream",
     "text": [
      "Epoch 496 has loss 20.04\n",
      "Epoch 497 has loss 20.04\n",
      "Epoch 498 has loss 20.04\n",
      "Epoch 499 has loss 20.04\n",
      "simple MLP has train RMS 20.04\n"
     ]
    }
   ],
   "source": [
    "# Fit a multilayer perceptron to the X data using PyTorch.\n",
    "import torch\n",
    "import torch.nn as nn\n",
    "import torch.nn.functional as F\n",
    "import torch.optim as optim\n",
    "from torch.optim.lr_scheduler import ExponentialLR\n",
    "import numpy as np\n",
    "from IPython.display import clear_output\n",
    "%matplotlib inline\n",
    "\n",
    "def visualize(net, X, Y): # PHI_tensor, Y_tensor\n",
    "    clear_output(wait=True)\n",
    "    # Plot on the test data\n",
    "    fig, ax = plt.subplots()\n",
    "    # Change figure size\n",
    "    fig.set_size_inches(12, 8)\n",
    "    x = np.linspace(1980, 2053, 200)\n",
    "    x_tensor = torch.tensor(x, dtype=torch.float).reshape(-1, 1)\n",
    "    #phi_tensor = torch.stack([torch.ones(len(x)), x_tensor.squeeze()], dim=1)\n",
    "    y = net(x_tensor).detach().squeeze().numpy()\n",
    "    ax.plot(x, y, color=rgb.tue_gray,\n",
    "            lw=4, alpha=0.5, label=\"base model\")\n",
    "    ax.plot(X, Y, label=\"data\")\n",
    "\n",
    "    ax.set_xlabel(\"Year\")\n",
    "    ax.set_ylabel(\"atmospheric CO$_2$ [ppm]\")\n",
    "    ax.xaxis.set_major_locator(ticker.MultipleLocator(5))\n",
    "    ax.xaxis.set_minor_locator(ticker.MultipleLocator(1))\n",
    "    ax.yaxis.set_major_locator(ticker.MultipleLocator(20))\n",
    "    ax.yaxis.set_minor_locator(ticker.MultipleLocator(5))\n",
    "    ax.set_xlim([1980, 2053])\n",
    "    ax.set_ylim([320, 490])\n",
    "    ax.grid(which=\"major\", axis=\"both\")\n",
    "    ax.legend(loc=\"lower right\", framealpha=1, facecolor=\"w\")\n",
    "\n",
    "    plt.show();\n",
    "\n",
    "\n",
    "# Define the model.\n",
    "class SimpleMLP(nn.Module):\n",
    "    def __init__(self, input_size=1, hidden_size=128, output_size=1):\n",
    "        super(SimpleMLP, self).__init__()\n",
    "        self.fc1 = nn.Linear(input_size, hidden_size, dtype=torch.float, bias=True)\n",
    "        #self.fc2 = nn.Linear(hidden_size, hidden_size, dtype=torch.float, bias=True)\n",
    "        self.fc3 = nn.Linear(hidden_size, output_size, dtype=torch.float, bias=True)\n",
    "\n",
    "        #self.fc1.weight.data = torch.tensor(np.random.randn(hidden_size, input_size), dtype=torch.float)\n",
    "        #self.fc2.weight.data = torch.tensor(np.random.randn(hidden_size, hidden_size), dtype=torch.float)\n",
    "        #self.fc3.weight.data = torch.tensor(np.random.randn(output_size, hidden_size), dtype=torch.float)\n",
    "\n",
    "        \n",
    "\n",
    "    def forward(self, x):\n",
    "        x = F.leaky_relu(self.fc1(x)) \n",
    "        #x = F.leaky_relu(self.fc2(x))\n",
    "        x = self.fc3(x)\n",
    "        return x\n",
    "\n",
    "def mse_loss(Y, Yhat):\n",
    "    if Y.ndim == 2:\n",
    "        Y_1 = Y.squeeze(1)\n",
    "    else:\n",
    "        Y_1 = Y\n",
    "    if Yhat.ndim == 2:\n",
    "        Yhat_1 = Yhat.squeeze(1)\n",
    "    else:\n",
    "        Yhat_1 = Yhat\n",
    "    return (((Y_1 - Yhat_1) ** 2).mean())**0.5\n",
    "\n",
    "net = SimpleMLP(hidden_size=1, input_size=1)\n",
    "\n",
    "# Define the optimizer.\n",
    "optimizer = optim.Adam(net.parameters(), lr=1)\n",
    "scheduler = ExponentialLR(optimizer, gamma=0.99)\n",
    "\n",
    "criterion = nn.MSELoss()\n",
    "\n",
    "# Convert the data to tensors.\n",
    "X_tensor = torch.tensor(X.values, dtype=torch.float).reshape(-1, 1)\n",
    "#PHI_tensor = torch.stack([torch.ones(len(X)), X_tensor], dim=1)\n",
    "Y_tensor= torch.tensor(Y.values, dtype=torch.float).reshape(-1, 1)\n",
    "\n",
    "# Train the model.\n",
    "\n",
    "\n",
    "for epoch in range(500):\n",
    "    optimizer.zero_grad()\n",
    "    output = net(X_tensor)\n",
    "    loss_optim = mse_loss(Y_tensor, output)\n",
    "    print(f\"Epoch {epoch} has loss {loss_optim.item():0.2f}\")\n",
    "    loss_optim.backward()\n",
    "    optimizer.step()\n",
    "    if epoch % 5 == 0:\n",
    "        visualize(net, X, Y)\n",
    "    if epoch % 50 == 0:\n",
    "        scheduler.step()\n",
    "\n",
    "# Compute the RMSE.\n",
    "Ypred = net(X_tensor).detach().squeeze().numpy()\n",
    "\n",
    "print(f\"simple MLP has train RMS {mse_loss(Y_tensor, Ypred):0.2f}\")"
   ]
  },
  {
   "attachments": {},
   "cell_type": "markdown",
   "id": "c0d8ed90",
   "metadata": {},
   "source": [
    "Cannot perform regression, the model is too complex for the given data. It's hard for the MLP weights to converge."
   ]
  },
  {
   "cell_type": "markdown",
   "id": "270eb5ed-6e73-4cb5-bd5b-f83ff69a1c16",
   "metadata": {},
   "source": [
    "### How to submit your work:\n",
    "\n",
    "Export your answer into a pdf (for example using jupyter's `Save and Export Notebook as` feature in the `File` menu). Make sure to include all outputs, in particular plots. Also include your answer to the theory question, either by adding it as LaTeX code directly in the notebook, or by adding it as an extra page (e.g. a scan) to the pdf. Submit the exercise on Ilias, in the associated folder. **Do not forget to add your name(s) and matricel number(s) above!)**"
   ]
  }
 ],
 "metadata": {
  "kernelspec": {
   "display_name": "base",
   "language": "python",
   "name": "python3"
  },
  "language_info": {
   "codemirror_mode": {
    "name": "ipython",
    "version": 3
   },
   "file_extension": ".py",
   "mimetype": "text/x-python",
   "name": "python",
   "nbconvert_exporter": "python",
   "pygments_lexer": "ipython3",
   "version": "3.9.13"
  },
  "vscode": {
   "interpreter": {
    "hash": "1bb07c6c63cfd2a31d0428d958e92c3f3bf38e33f7d18a0b8f12f9efab5b9a82"
   }
  }
 },
 "nbformat": 4,
 "nbformat_minor": 5
}
