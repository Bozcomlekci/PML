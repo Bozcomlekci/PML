{
 "cells": [
  {
   "attachments": {},
   "cell_type": "markdown",
   "id": "a64bb59e",
   "metadata": {},
   "source": [
    "# Probabilistic Machine Learning\n",
    "<div style=\"text-align: right\"> University of Tübingen, Summer Term 2023  &copy; 2023 P. Hennig </div>\n"
   ]
  },
  {
   "attachments": {},
   "cell_type": "markdown",
   "id": "db95befb",
   "metadata": {},
   "source": [
    "Theory Question: In the lecture, we encountered the Beta distribution\n",
    "$$\n",
    "p(x \\mid a, b)=\\mathcal{B}(x ; a, b):=\\frac{1}{B(a, b)} x^{a-1}(1-x)^{b-1}\n",
    "$$\n",
    "where the normalization constant $B(a, b)=\\Gamma(a) \\Gamma(b) / \\Gamma(a+b)$ is the Beta function, using the (Euler) Gamma function. The Beta is conjugate to the binomial distribution\n",
    "$$\n",
    "p(n, m \\mid x)=\\left(\\begin{array}{c}\n",
    "n+m \\\\\n",
    "n\n",
    "\\end{array}\\right) x^n(1-x)^m\n",
    "$$\n",
    "\n",
    "That is, the posterior on $x$ arising from the Beta prior and the binomial likelihood is $\\mathcal{B}(x ; a+n, b+m)$. In this question, we will study the generalization to the multinomial case: Consider a data set $C=\\left[c_1, c_2, \\ldots, c_N\\right]$ of discrete labels $c_i \\in\\{1,2,3, \\ldots, K\\}$. It is convenient to use the notation $n_k=\\left|\\left\\{c_i \\in C \\mid c_i=k\\right\\}\\right|$ for the number of labels observed in class $k$. We assume these data are drawn iid. from the multinomial distribution\n",
    "$$\n",
    "p(C \\mid \\boldsymbol{x})=\\prod_{i=1}^N x_{c_i}=\\frac{N !}{\\prod_{\\ell=1}^K n_{\\ell} !} \\prod_{k=1}^K x_k^{n_k} .\n",
    "\n",
    "\n"
   ]
  },
  {
   "attachments": {},
   "cell_type": "markdown",
   "id": "26d2645c",
   "metadata": {},
   "source": [
    "(a) Show that the Dirichlet distribution (with parameter vector $\\boldsymbol{\\alpha} \\in \\mathbb{R}_{+}^K$ )\n",
    "$$\n",
    "\\mathcal{D}(\\boldsymbol{x} \\mid \\boldsymbol{\\alpha})=\\frac{\\Gamma\\left(\\sum_k \\alpha_k\\right)}{\\prod_k \\Gamma\\left(\\alpha_k\\right)} \\prod_k x_k^{\\alpha_k-1}\n",
    "$$\n",
    "is the conjugate prior for the multinomial (1). What is the associated posterior?"
   ]
  },
  {
   "attachments": {},
   "cell_type": "markdown",
   "id": "4b04f7c3",
   "metadata": {},
   "source": [
    "(b) Show that the Dirichlet distribution has the aggregation property: If $p(\\boldsymbol{x})=\\mathcal{D}(\\boldsymbol{x} ; \\boldsymbol{\\alpha})$, then\n",
    "$$\n",
    "\\begin{aligned}\n",
    "p\\left(\\left[x_1, x_2, \\ldots, x_i+x_j, \\ldots x_{j-1}\\right.\\right. & \\left.\\left., x_{j+1}, \\ldots, x_K\\right]\\right) \\\\\n",
    "& =\\mathcal{D}\\left(\\cdot ;\\left[\\alpha_1, \\alpha_2, \\ldots, \\alpha_i+\\alpha_j, \\ldots, \\alpha_{j-1}, \\alpha_{j+1}, \\ldots, \\alpha_K\\right]\\right)\n",
    "\\end{aligned}\n",
    "$$"
   ]
  },
  {
   "attachments": {},
   "cell_type": "markdown",
   "id": "03f8820d",
   "metadata": {},
   "source": [
    "(c) Show that the logarithm of the likelihood (1), as a function of $\\boldsymbol{x}$, is the crossentropy $\\operatorname{loss}^1$ for $\\boldsymbol{x}$. What is the maximum-likelihood estimate for $\\boldsymbol{x}$ ? How does it relate to the maximum ${ }^2$ of the posterior?"
   ]
  },
  {
   "attachments": {},
   "cell_type": "markdown",
   "id": "a0a396bb",
   "metadata": {},
   "source": [
    "(d) Consider the following situation: You are on an e-commerce marketplace, which uses ratings on the common \"five stars\" scale. You have the choice between two vendors there. The first vendor has only three ratings so far, but they are all five-star ratings (i.e. their rating \"vector\" is $\\left.C_1=[0,0,0,0,3]\\right)$. The second vendor has many more ratings, their rating vector is $C_2=[1,0,12,43,354]$. Let's assume (questionably) that these ratings are drawn iid. from two multinomial distributions with parameter $\\boldsymbol{x}_1$ and $\\boldsymbol{x}_2$, one for each vendor. Use the results above to answer the following questions:\n",
    "i. What are the maximum likelihood estimates for $\\boldsymbol{x}_1$ and $\\boldsymbol{x}_2$ ?\n",
    "ii. Under a uniform Dirichlet prior $(\\boldsymbol{\\alpha}=[1,1,1,1,1])$ what is the probability for your rating to be five stars? What is the probability for your rating to be four or five stars? (Assume you pick either one of the vendors, and your future rating will be distributed just as the existing ones. To answer this question, you need to compute integrals of the form $\\int x_i \\mathcal{D}(\\boldsymbol{x} \\mid \\boldsymbol{\\alpha}) d \\boldsymbol{x}$. Think about how to do this.)"
   ]
  },
  {
   "cell_type": "markdown",
   "id": "1ff65d16",
   "metadata": {},
   "source": [
    "## Laplace Approximations\n"
   ]
  },
  {
   "cell_type": "code",
   "execution_count": 1,
   "id": "d9acbc5a",
   "metadata": {
    "execution": {
     "iopub.execute_input": "2023-04-14T10:40:13.577988Z",
     "iopub.status.busy": "2023-04-14T10:40:13.577248Z",
     "iopub.status.idle": "2023-04-14T10:40:15.474851Z",
     "shell.execute_reply": "2023-04-14T10:40:15.474566Z",
     "shell.execute_reply.started": "2023-04-14T10:40:13.577930Z"
    },
    "tags": []
   },
   "outputs": [],
   "source": [
    "from io import StringIO\n",
    "\n",
    "import pandas as pd\n",
    "import requests\n",
    "\n",
    "import jax\n",
    "from jax import numpy as jnp\n",
    "from jax.scipy import optimize\n",
    "\n",
    "from matplotlib import pyplot as plt\n",
    "import matplotlib.tri as tri\n",
    "from matplotlib import ticker\n",
    "import numpy as np\n",
    "\n",
    "from tueplots import bundles\n",
    "from tueplots.constants.color import rgb\n",
    "\n",
    "\n",
    "plt.rcParams.update(bundles.beamer_moml())\n",
    "plt.rcParams.update({\"figure.dpi\": 200})\n"
   ]
  },
  {
   "cell_type": "markdown",
   "id": "412a4952",
   "metadata": {
    "execution": {
     "iopub.execute_input": "2023-04-14T10:44:44.538576Z",
     "iopub.status.busy": "2023-04-14T10:44:44.537924Z",
     "iopub.status.idle": "2023-04-14T10:44:45.726698Z",
     "shell.execute_reply": "2023-04-14T10:44:45.725509Z",
     "shell.execute_reply.started": "2023-04-14T10:44:44.538531Z"
    },
    "tags": []
   },
   "source": [
    "# Exercise 2.2 (Coding Exercise)\n",
    "\n",
    "\n",
    "In this exercise we are going to practice the Laplace approximation, as well as `jax`. You can use the functionality from `jax` whereever you want to. Your tasks are the following:\n",
    "\n",
    "**Task 1.** Implement the Beta distribution:\n",
    "\n",
    "$$ p_z(z) = Beta(z;a,b)$$\n",
    "\n",
    "You can do it yourself, or use `jax.scipy.stats.beta.pdf`.\n"
   ]
  },
  {
   "cell_type": "code",
   "execution_count": 2,
   "id": "3b7779bb",
   "metadata": {},
   "outputs": [],
   "source": [
    "def p_z(z, a, b):\n",
    "    \"\"\"Beta distribution p_z(z).\n",
    "    \n",
    "    Args:\n",
    "      z: Float, Argument of the beta distribution.\n",
    "      a: Float, Parameter of the beta distribution.\n",
    "      b: Float, Parameter of the beta distribution.\n",
    "      \n",
    "    Returns:\n",
    "      Value of the probability density function at z.\n",
    "    \"\"\"\n",
    "    # TODO\n",
    "    return jax.scipy.stats.beta.pdf(z, a, b)"
   ]
  },
  {
   "cell_type": "markdown",
   "id": "90a56491",
   "metadata": {},
   "source": [
    "**Task 2.** What is the distribution $p_x(x)$ of $x$ if \n",
    "\n",
    "$$ z = logisitc(x) \\hspace{1cm} \\text{with } \\hspace{0.5cm} logistic(x) = 1/(1+exp(-x)?$$\n",
    "\n",
    "Implement it using the transformation rules from the lecture. `jax.jacrev` might be helpful for calculating Jacobians."
   ]
  },
  {
   "attachments": {},
   "cell_type": "markdown",
   "id": "0b3e0e1c",
   "metadata": {},
   "source": [
    "Theorem (Transformation Law, general)\n",
    "Let $X=\\left(X_1, \\ldots, X_d\\right)$ have a joint density $p_X$. Let $g: \\mathbb{R}^d \\rightarrow \\mathbb{R}^d$ be continously differentiable and injective, with non-vanishing Jacobian $J_g$. Then $X=g(Z)$ has density\n",
    "$$\n",
    "p_X(x)= \\begin{cases}p_Z\\left(g^{-1}(x)\\right) \\cdot\\left|J_{g^{-1}}(x)\\right| & \\text { if } x \\text { is in the range of } g \\\\ 0 & \\text { otherwise. }\\end{cases}\n",
    "$$"
   ]
  },
  {
   "cell_type": "code",
   "execution_count": 3,
   "id": "ed3d9032",
   "metadata": {},
   "outputs": [],
   "source": [
    "def p_x(x, a, b):\n",
    "    \"\"\"Probability density function for x with z=logistic(x). \n",
    "    \n",
    "    Args:\n",
    "      z: Float, Argument of p_x.\n",
    "      a: Float, Parameter of the beta distribution of z.\n",
    "      b: Float, Parameter of the beta distribution of z.\n",
    "      \n",
    "    Returns:\n",
    "      Value of the probability density function p_x(x) at x.\n",
    "    \"\"\"\n",
    "    # TODO\n",
    "    logistic_x = jax.scipy.special.expit(x)\n",
    "    p_Z = p_z(logistic_x, a, b)\n",
    "    p_X = p_Z * logistic_x * (1 - logistic_x)\n",
    "    return p_X"
   ]
  },
  {
   "cell_type": "markdown",
   "id": "ec4588d0",
   "metadata": {},
   "source": [
    "**Task 3.** Compute the Laplace approximations for both,  $p_z(z)$ and $p_x(x)$."
   ]
  },
  {
   "cell_type": "code",
   "execution_count": 4,
   "id": "edefa2ad",
   "metadata": {},
   "outputs": [],
   "source": [
    "def laplace_z(a, b):\n",
    "    \"\"\"Laplace approximation for the beta distribution.\n",
    "    \n",
    "    Args:\n",
    "      a: Float, Parameter of the beta distribution.\n",
    "      b: Float, Parameter of the beta distribution.\n",
    "      \n",
    "    Returns:\n",
    "      A function with the same argument as the beta distribution. \n",
    "    \"\"\"\n",
    "    # TODO\n",
    "    mu = a / (a + b)\n",
    "    sigma = jnp.sqrt(a * b / ((a + b)**2 * (a + b + 1)))\n",
    "    p_Z = lambda z: jax.scipy.stats.norm.pdf(z, loc=mu, scale=sigma) / (sigma * (1 + jnp.exp(-z))**2) \n",
    "    return p_Z\n",
    "\n",
    "def laplace_x(a, b):\n",
    "    \"\"\"Laplace approximation for p_x with z=logistic(x). \n",
    "    \n",
    "    Args:\n",
    "      a: Float, Parameter of the beta distribution.\n",
    "      b: Float, Parameter of the beta distribution.\n",
    "      \n",
    "    Returns:\n",
    "      A function with the same argument as p_x. \n",
    "    \"\"\"\n",
    "    # TODO\n",
    "    p_Z = laplace_z(a, b)\n",
    "    p_X = lambda x: p_Z(jax.scipy.special.expit(x)) * jax.scipy.special.expit(x) * (1 - jax.scipy.special.expit(x))\n",
    "    return p_X"
   ]
  },
  {
   "cell_type": "markdown",
   "id": "84d37a40",
   "metadata": {},
   "source": [
    "**Task 4.** Make a plot for $p_z(z)$ and it's Laplace approximation for the parameter combinations $a=2, b=3$ and $a=5, b=5$. Are there parameter combinations, where the Laplace approximation is undefined? Make the same plot for $x$, too."
   ]
  },
  {
   "cell_type": "code",
   "execution_count": 5,
   "id": "3b107e25",
   "metadata": {},
   "outputs": [
    {
     "name": "stderr",
     "output_type": "stream",
     "text": [
      "WARNING:jax._src.lib.xla_bridge:No GPU/TPU found, falling back to CPU. (Set TF_CPP_MIN_LOG_LEVEL=0 and rerun for more info.)\n",
      "WARNING:matplotlib.font_manager:findfont: Font family ['sans-serif'] not found. Falling back to DejaVu Sans.\n",
      "WARNING:matplotlib.font_manager:findfont: Generic family 'sans-serif' not found because none of the following families were found: Roboto Condensed\n"
     ]
    },
    {
     "data": {
      "image/png": "[encoded data removed]",
      "text/plain": [
       "<Figure size 432x288 with 1 Axes>"
      ]
     },
     "metadata": {
      "needs_background": "light"
     },
     "output_type": "display_data"
    },
    {
     "data": {
      "image/png": "[encoded data removed]",
      "text/plain": [
       "<Figure size 432x288 with 1 Axes>"
      ]
     },
     "metadata": {
      "needs_background": "light"
     },
     "output_type": "display_data"
    },
    {
     "data": {
      "image/png": "[encoded data removed]",
      "text/plain": [
       "<Figure size 432x288 with 1 Axes>"
      ]
     },
     "metadata": {
      "needs_background": "light"
     },
     "output_type": "display_data"
    },
    {
     "data": {
      "image/png": "[encoded data removed]",
      "text/plain": [
       "<Figure size 432x288 with 1 Axes>"
      ]
     },
     "metadata": {
      "needs_background": "light"
     },
     "output_type": "display_data"
    }
   ],
   "source": [
    "# TODO: Plot \n",
    "z = np.linspace(-10, 10, 1000)\n",
    "x = np.linspace(-10, 10, 1000)\n",
    "a = 2\n",
    "b = 3\n",
    "\n",
    "plt.plot(z, p_z(z, a, b), label=\"p_z\")\n",
    "plt.plot(z, laplace_z(a, b)(z), label=\"laplace_z\")\n",
    "plt.legend()\n",
    "plt.show()\n",
    "\n",
    "plt.plot(x, p_x(x, a, b), label=\"p_x\")\n",
    "plt.plot(x, laplace_x(a, b)(x), label=\"laplace_x\")\n",
    "plt.legend()\n",
    "plt.show()\n",
    "\n",
    "# TODO: Plot \n",
    "a = 5\n",
    "b = 5\n",
    "z = np.linspace(-10, 10, 1000)\n",
    "x = np.linspace(-10, 10, 1000)\n",
    "\n",
    "plt.plot(z, p_z(z, a, b), label=\"p_z\")\n",
    "plt.plot(z, laplace_z(a, b)(z), label=\"laplace_z\")\n",
    "plt.legend()\n",
    "plt.show()\n",
    "\n",
    "plt.plot(x, p_x(x, a, b), label=\"p_x\")\n",
    "plt.plot(x, laplace_x(a, b)(x), label=\"laplace_x\")\n",
    "plt.legend()\n",
    "plt.show()"
   ]
  },
  {
   "cell_type": "markdown",
   "id": "76805079",
   "metadata": {},
   "source": [
    "**Task 5.** Implement the Dirichlet distribution\n",
    "\n",
    "$$ p_y(y) = Dirichlet(y; \\alpha)$$\n",
    "\n",
    "(alternative:`jax.scipy.stats.dirichlet.pdf`) and it's Laplace approximation. "
   ]
  },
  {
   "cell_type": "code",
   "execution_count": 6,
   "id": "925a8869",
   "metadata": {},
   "outputs": [],
   "source": [
    "def p_y(y, alpha):\n",
    "    \"\"\"Dirichlet distribution p_y(y).\n",
    "    \n",
    "    Args:\n",
    "      y: ArrayLike, Argument of the Dirichlet distribution.\n",
    "      alpha: ArrayLike, Parameter of the Dirichlet distribution.\n",
    "      \n",
    "    Returns:\n",
    "      Value of the probability density function at z.\n",
    "    \"\"\"\n",
    "    # TODO\n",
    "    return jax.scipy.stats.dirichlet.pdf(y, alpha)\n",
    "\n",
    "def laplace_y(alpha):\n",
    "    \"\"\"Laplace approximation for the Dirichlet distribution p_y. \n",
    "    \n",
    "    Args:\n",
    "      alpha: ArrayLike, Parameter of the Dirichlet distribution.\n",
    "      \n",
    "    Returns:\n",
    "      A function with the same argument as p_y. \n",
    "    \"\"\"\n",
    "    # TODO\n",
    "    return lambda y: jax.scipy.stats.multivariate_normal.pdf(y, mean=alpha / jnp.sum(alpha), cov=jnp.diag(alpha / jnp.sum(alpha)**2))"
   ]
  },
  {
   "cell_type": "markdown",
   "id": "6ca1be8e",
   "metadata": {},
   "source": [
    "**Task 6.**\n",
    "For $\\alpha = (2, 10, 2)$ and $\\alpha = (3, 2, 5)$, plot $p_y(y)$ and it's Laplace approximation next to each other. The function `simplex_contour_plot` implemented below can help with contour plots over the simplex. You can adapt it in any way you like."
   ]
  },
  {
   "cell_type": "code",
   "execution_count": 11,
   "id": "5f0499fc",
   "metadata": {},
   "outputs": [
    {
     "ename": "TypeError",
     "evalue": "'ellipsis' object is not callable",
     "output_type": "error",
     "traceback": [
      "\u001b[0;31m---------------------------------------------------------------------------\u001b[0m",
      "\u001b[0;31mTypeError\u001b[0m                                 Traceback (most recent call last)",
      "\u001b[1;32m/home/bozcomlekci/Desktop/ML/PML/Ex02.ipynb Cell 21\u001b[0m in \u001b[0;36m<cell line: 46>\u001b[0;34m()\u001b[0m\n\u001b[1;32m     <a href='vscode-notebook-cell:/home/bozcomlekci/Desktop/ML/PML/Ex02.ipynb#X16sZmlsZQ%3D%3D?line=42'>43</a>\u001b[0m alpha \u001b[39m=\u001b[39m np\u001b[39m.\u001b[39marray([\u001b[39m2\u001b[39m, \u001b[39m10\u001b[39m, \u001b[39m2\u001b[39m])\n\u001b[1;32m     <a href='vscode-notebook-cell:/home/bozcomlekci/Desktop/ML/PML/Ex02.ipynb#X16sZmlsZQ%3D%3D?line=43'>44</a>\u001b[0m y \u001b[39m=\u001b[39m np\u001b[39m.\u001b[39mlinspace(\u001b[39m0\u001b[39m, \u001b[39m1\u001b[39m, \u001b[39m1000\u001b[39m)\n\u001b[0;32m---> <a href='vscode-notebook-cell:/home/bozcomlekci/Desktop/ML/PML/Ex02.ipynb#X16sZmlsZQ%3D%3D?line=45'>46</a>\u001b[0m simplex_contour_plot(laplace_y(alpha), laplace_y(alpha))\n\u001b[1;32m     <a href='vscode-notebook-cell:/home/bozcomlekci/Desktop/ML/PML/Ex02.ipynb#X16sZmlsZQ%3D%3D?line=47'>48</a>\u001b[0m alpha \u001b[39m=\u001b[39m np\u001b[39m.\u001b[39marray([\u001b[39m3\u001b[39m, \u001b[39m2\u001b[39m, \u001b[39m5\u001b[39m])\n\u001b[1;32m     <a href='vscode-notebook-cell:/home/bozcomlekci/Desktop/ML/PML/Ex02.ipynb#X16sZmlsZQ%3D%3D?line=48'>49</a>\u001b[0m y \u001b[39m=\u001b[39m np\u001b[39m.\u001b[39mlinspace(\u001b[39m0\u001b[39m, \u001b[39m1\u001b[39m, \u001b[39m1000\u001b[39m)\n",
      "\u001b[1;32m/home/bozcomlekci/Desktop/ML/PML/Ex02.ipynb Cell 21\u001b[0m in \u001b[0;36msimplex_contour_plot\u001b[0;34m(fun1, fun2)\u001b[0m\n\u001b[1;32m     <a href='vscode-notebook-cell:/home/bozcomlekci/Desktop/ML/PML/Ex02.ipynb#X16sZmlsZQ%3D%3D?line=26'>27</a>\u001b[0m     coords \u001b[39m=\u001b[39m np\u001b[39m.\u001b[39marray([tri_area(xy, p) \u001b[39mfor\u001b[39;00m p \u001b[39min\u001b[39;00m pairs]) \u001b[39m/\u001b[39m area\n\u001b[1;32m     <a href='vscode-notebook-cell:/home/bozcomlekci/Desktop/ML/PML/Ex02.ipynb#X16sZmlsZQ%3D%3D?line=27'>28</a>\u001b[0m     \u001b[39mreturn\u001b[39;00m np\u001b[39m.\u001b[39mclip(coords, tol, \u001b[39m1.0\u001b[39m \u001b[39m-\u001b[39m tol)\n\u001b[0;32m---> <a href='vscode-notebook-cell:/home/bozcomlekci/Desktop/ML/PML/Ex02.ipynb#X16sZmlsZQ%3D%3D?line=29'>30</a>\u001b[0m values1 \u001b[39m=\u001b[39m [fun1(xy2bc(xy))\u001b[39m.\u001b[39mitem() \u001b[39mfor\u001b[39;00m xy \u001b[39min\u001b[39;00m \u001b[39mzip\u001b[39m(trimesh\u001b[39m.\u001b[39mx, trimesh\u001b[39m.\u001b[39my)]\n\u001b[1;32m     <a href='vscode-notebook-cell:/home/bozcomlekci/Desktop/ML/PML/Ex02.ipynb#X16sZmlsZQ%3D%3D?line=30'>31</a>\u001b[0m values2 \u001b[39m=\u001b[39m [fun2(xy2bc(xy))\u001b[39m.\u001b[39mitem() \u001b[39mfor\u001b[39;00m xy \u001b[39min\u001b[39;00m \u001b[39mzip\u001b[39m(trimesh\u001b[39m.\u001b[39mx, trimesh\u001b[39m.\u001b[39my)]\n\u001b[1;32m     <a href='vscode-notebook-cell:/home/bozcomlekci/Desktop/ML/PML/Ex02.ipynb#X16sZmlsZQ%3D%3D?line=32'>33</a>\u001b[0m fig, axes \u001b[39m=\u001b[39m plt\u001b[39m.\u001b[39msubplots(nrows\u001b[39m=\u001b[39m\u001b[39m1\u001b[39m, ncols\u001b[39m=\u001b[39m\u001b[39m2\u001b[39m, figsize\u001b[39m=\u001b[39m(\u001b[39m5\u001b[39m, \u001b[39m3\u001b[39m))\n",
      "\u001b[1;32m/home/bozcomlekci/Desktop/ML/PML/Ex02.ipynb Cell 21\u001b[0m in \u001b[0;36m<listcomp>\u001b[0;34m(.0)\u001b[0m\n\u001b[1;32m     <a href='vscode-notebook-cell:/home/bozcomlekci/Desktop/ML/PML/Ex02.ipynb#X16sZmlsZQ%3D%3D?line=26'>27</a>\u001b[0m     coords \u001b[39m=\u001b[39m np\u001b[39m.\u001b[39marray([tri_area(xy, p) \u001b[39mfor\u001b[39;00m p \u001b[39min\u001b[39;00m pairs]) \u001b[39m/\u001b[39m area\n\u001b[1;32m     <a href='vscode-notebook-cell:/home/bozcomlekci/Desktop/ML/PML/Ex02.ipynb#X16sZmlsZQ%3D%3D?line=27'>28</a>\u001b[0m     \u001b[39mreturn\u001b[39;00m np\u001b[39m.\u001b[39mclip(coords, tol, \u001b[39m1.0\u001b[39m \u001b[39m-\u001b[39m tol)\n\u001b[0;32m---> <a href='vscode-notebook-cell:/home/bozcomlekci/Desktop/ML/PML/Ex02.ipynb#X16sZmlsZQ%3D%3D?line=29'>30</a>\u001b[0m values1 \u001b[39m=\u001b[39m [fun1(xy2bc(xy))\u001b[39m.\u001b[39mitem() \u001b[39mfor\u001b[39;00m xy \u001b[39min\u001b[39;00m \u001b[39mzip\u001b[39m(trimesh\u001b[39m.\u001b[39mx, trimesh\u001b[39m.\u001b[39my)]\n\u001b[1;32m     <a href='vscode-notebook-cell:/home/bozcomlekci/Desktop/ML/PML/Ex02.ipynb#X16sZmlsZQ%3D%3D?line=30'>31</a>\u001b[0m values2 \u001b[39m=\u001b[39m [fun2(xy2bc(xy))\u001b[39m.\u001b[39mitem() \u001b[39mfor\u001b[39;00m xy \u001b[39min\u001b[39;00m \u001b[39mzip\u001b[39m(trimesh\u001b[39m.\u001b[39mx, trimesh\u001b[39m.\u001b[39my)]\n\u001b[1;32m     <a href='vscode-notebook-cell:/home/bozcomlekci/Desktop/ML/PML/Ex02.ipynb#X16sZmlsZQ%3D%3D?line=32'>33</a>\u001b[0m fig, axes \u001b[39m=\u001b[39m plt\u001b[39m.\u001b[39msubplots(nrows\u001b[39m=\u001b[39m\u001b[39m1\u001b[39m, ncols\u001b[39m=\u001b[39m\u001b[39m2\u001b[39m, figsize\u001b[39m=\u001b[39m(\u001b[39m5\u001b[39m, \u001b[39m3\u001b[39m))\n",
      "\u001b[0;31mTypeError\u001b[0m: 'ellipsis' object is not callable"
     ]
    }
   ],
   "source": [
    "def simplex_contour_plot(fun1, fun2):\n",
    "    \"\"\"Make contour plots for two functions, each defined over the probability simplex\n",
    "       represented by a triangualar surface.\n",
    "    \n",
    "    Args:\n",
    "      fun1: function, defined over the probability simplex in three dimensions.\n",
    "      fun2: function, defined over the probability simplex in three dimensions.\n",
    "      \n",
    "    Based on: https://blog.bogatron.net/blog/2014/02/02/visualizing-dirichlet-distributions/\n",
    "    \"\"\"\n",
    "    \n",
    "    # Define the triangle\n",
    "    corners = np.array([[0, 0], [1, 0], [0.5, 0.75**0.5]])\n",
    "    area = 0.5 * 1 * 0.75**0.5\n",
    "    triangle = tri.Triangulation(corners[:, 0], corners[:, 1])\n",
    "    refiner = tri.UniformTriRefiner(triangle)\n",
    "    trimesh = refiner.refine_triangulation(subdiv=8)\n",
    "    \n",
    "    # For each corner of the triangle, the pair of other corners\n",
    "    pairs = [corners[np.roll(range(3), -i)[1:]] for i in range(3)]\n",
    "    \n",
    "    # The area of the triangle formed by point xy and another pair or points\n",
    "    tri_area = lambda xy, pair: 0.5 * np.linalg.norm(np.cross(*(pair - xy)))\n",
    "    \n",
    "    # Convert cartesian to barycentric coordinates  \n",
    "    def xy2bc(xy, tol=1e-6):\n",
    "        coords = np.array([tri_area(xy, p) for p in pairs]) / area\n",
    "        return np.clip(coords, tol, 1.0 - tol)\n",
    "    \n",
    "    values1 = [fun1(xy2bc(xy)).item() for xy in zip(trimesh.x, trimesh.y)]\n",
    "    values2 = [fun2(xy2bc(xy)).item() for xy in zip(trimesh.x, trimesh.y)]\n",
    "    \n",
    "    fig, axes = plt.subplots(nrows=1, ncols=2, figsize=(5, 3))\n",
    "    axes[0].tricontourf(trimesh, values1)\n",
    "    axes[1].tricontourf(trimesh, values2)\n",
    "    axes[0].axis('equal')\n",
    "    axes[1].axis('equal')\n",
    "    axes[0].axis('off')\n",
    "    axes[1].axis('off')\n",
    "    plt.show()\n",
    "\n",
    "# TODO: Plot\n",
    "alpha = np.array([2, 10, 2])\n",
    "y = np.linspace(0, 1, 1000)\n",
    "\n",
    "simplex_contour_plot(laplace_y(alpha), laplace_y(alpha))\n",
    "\n",
    "alpha = np.array([3, 2, 5])\n",
    "y = np.linspace(0, 1, 1000)\n",
    "\n",
    "simplex_contour_plot(laplace_y(alpha), laplace_y(alpha))"
   ]
  },
  {
   "cell_type": "markdown",
   "id": "d86656cc",
   "metadata": {},
   "source": [
    "### How to submit your work:\n",
    "\n",
    "Export your answer into a pdf (for example using jupyter's `Save and Export Notebook as` feature in the `File` menu). Make sure to include all outputs, in particular plots. Also include your answer to the theory question, either by adding it as LaTeX code directly in the notebook, or by adding it as an extra page (e.g. a scan) to the pdf. Submit the exercise on Ilias, in the associated folder. **Do not forget to add your name(s) and matricel number(s) above!)**"
   ]
  }
 ],
 "metadata": {
  "kernelspec": {
   "display_name": "Python 3 (ipykernel)",
   "language": "python",
   "name": "python3"
  },
  "language_info": {
   "codemirror_mode": {
    "name": "ipython",
    "version": 3
   },
   "file_extension": ".py",
   "mimetype": "text/x-python",
   "name": "python",
   "nbconvert_exporter": "python",
   "pygments_lexer": "ipython3",
   "version": "3.9.13"
  }
 },
 "nbformat": 4,
 "nbformat_minor": 5
}
