{
 "cells": [
  {
   "cell_type": "markdown",
   "metadata": {},
   "source": [
    "# Probabilistic Machine Learning\n",
    "<div style=\"text-align: right\"> University of Tübingen, Summer Term 2023  &copy; 2023 P. Hennig </div>\n",
    "\n",
    "## Exercise Sheet No. 4 — Gaussians\n",
    "\n",
    "---\n",
    "\n",
    "Submission by:\n",
    "* Batuhan, Oezcoemlekci, Matrikelnummer: 6300476\n",
    "* Aakarsh, Nair, Matrikelnummer: 6546577"
   ]
  },
  {
   "cell_type": "code",
   "execution_count": 100,
   "metadata": {},
   "outputs": [],
   "source": [
    "import jax.numpy as jnp\n",
    "import logging\n",
    "\n",
    "from jax import random\n",
    "key = random.PRNGKey(0)\n",
    "from exponential_families import *\n",
    "from tueplots import bundles\n",
    "from matplotlib import pyplot as plt\n",
    "plt.rcParams.update(bundles.beamer_moml())\n",
    "plt.rcParams.update({'figure.dpi': 200})\n",
    "\n",
    "logging.getLogger(\"matplotlib.font_manager\").setLevel(logging.ERROR)"
   ]
  },
  {
   "attachments": {},
   "cell_type": "markdown",
   "metadata": {},
   "source": [
    "## Exercise 4.2 (Coding Exercise)\n",
    "\n",
    "> This week's Exercise is directly taken from Exercise 24.3. of [David JC MacKay](https://en.wikipedia.org/wiki/David_J._C._MacKay)'s [*Information Theory, Inference, and Learning Algorithms*](http://www.inference.org.uk/mackay/itila/). (But don't waste your time trying to find an answer there :)\n",
    "\n",
    "The terribly important quantity $\\mu$ has been experimentally measured by seven scientists (A, B, C, D, E, F, G) with wildly differing experimental skills. They have reported the following measurements:"
   ]
  },
  {
   "cell_type": "code",
   "execution_count": 101,
   "metadata": {},
   "outputs": [],
   "source": [
    "# We assume the same latent quantity $\\mu$ for all observations.\n",
    "X = jnp.array([-27.020,3.570,8.191,9.898,9.603,9.945,10.056])"
   ]
  },
  {
   "cell_type": "code",
   "execution_count": 102,
   "metadata": {},
   "outputs": [
    {
     "data": {
      "text/plain": [
       "Text(0.5, 0, 'measured value of $x$')"
      ]
     },
     "execution_count": 102,
     "metadata": {},
     "output_type": "execute_result"
    },
    {
     "data": {
      "image/png": "[encoded data removed]",
      "text/plain": [
       "<Figure size 1102.36x496.063 with 1 Axes>"
      ]
     },
     "metadata": {},
     "output_type": "display_data"
    }
   ],
   "source": [
    "fig,ax = plt.subplots(1,1)\n",
    "ax.plot(X,random.uniform(key, shape=(7,)),'x',ms=3)\n",
    "\n",
    "ax.yaxis.set_visible(False)\n",
    "ax.spines['right'].set_visible(False)\n",
    "ax.spines['top'].set_visible(False)\n",
    "ax.spines['left'].set_visible(False)\n",
    "ax.set_xlabel('measured value of $x$')"
   ]
  },
  {
   "cell_type": "markdown",
   "metadata": {},
   "source": [
    "We assume that they have all, independently of each other, made an unbiased Gaussian measurement of $\\mu$: \n",
    "$$p(\\boldsymbol{x}\\mid \\mu,\\boldsymbol{\\sigma}) = \\prod_{i=1} ^7 \\mathcal{N}(x_i;\\mu,\\sigma_i ^2).$$ \n",
    "But we have to assume that their measurement errors $\\sigma_i$ vary a lot (some are skilled experimentalists, others are unqualified). \n",
    "\n",
    "#### Task A: \n",
    "Implement the likelihood above as a single jax function (this is unfortunately a case where our neat `ExponentialFamily` base class is more awkward than useful). Try using a numerical optimizer to find *maximum likelihood estimators*, i.e. points $(\\mu, \\vec{\\sigma})$ that maximize this function. Alternatively, you can try and identify such points directly by inspecting the likelihood by hand.\n",
    "  \n",
    "You probably agree that, intuitively, it looks pretty certain that A and B are both inept measurers, that D–G are better, and that the true value of $\\mu$ is somewhere close to $10$. Are your findings consistent with this intuition?  "
   ]
  },
  {
   "cell_type": "code",
   "execution_count": 445,
   "metadata": {},
   "outputs": [
    {
     "name": "stdout",
     "output_type": "stream",
     "text": [
      "Initial_params 9.603 [3.6660637e+01 6.0400372e+00 1.4144135e+00 2.9629624e-01 1.0010003e-03\n",
      " 3.4334320e-01 4.5445427e-01]\n",
      "Estimated Parameters (mean, std): 9.603007 [3.6660637e+01 6.0400372e+00 1.4144135e+00 2.9629624e-01 1.0009994e-03\n",
      " 3.4334320e-01 4.5445427e-01]\n",
      "Expected Parameters (mean, std): 10 [37.02        6.4300003   1.809       0.10200024  0.3970003   0.05500031\n",
      "  0.05599976]\n",
      "Residuals:(mean, std): -0.39699268 [0.35936356 0.38996315 0.39458656 0.194296   0.3959993  0.2883429\n",
      " 0.39845452]\n"
     ]
    }
   ],
   "source": [
    "import jax\n",
    "import jax.numpy as jnp\n",
    "import jax.scipy.optimize as optimize\n",
    "\n",
    "def log_likelihood(params, data):\n",
    "    mean = params[0]\n",
    "    log_probs = [0  for _ in range(data.shape[0])]\n",
    "    for i in range(data.shape[0]):\n",
    "        log_probs[i] = jax.scipy.stats.norm.logpdf(data[i], loc=mean, scale=jnp.exp((1e-3+params[i+1]) ))\n",
    "    return jnp.sum(jnp.array(log_probs))\n",
    "\n",
    "def negative_log_likelihood(params, data):\n",
    "    return -log_likelihood(params, data)\n",
    "\n",
    "# Does not have much data to deviate from the initialization, But the mean is \n",
    "# is close to 10 as was expected from the plot above.\n",
    "#initial_params = jnp.zeros(8,) \n",
    "# #(mean, std): 10.037241 [33.581936    6.4427376   7.329081    1.669426    1.279549    0.5761264, 0.32330853]\n",
    "initial_params = jnp.hstack([jnp.median(X), jnp.log((1e-3+ jnp.abs(X - jnp.median(X))))]) #jnp.sqrt((X - jnp.median(X))**2)])\n",
    "print(\"Initial_params\", initial_params[0], jnp.exp(1e-3+initial_params[1:]))\n",
    "data = X  # Your measurements as an array-like object\n",
    "\n",
    "result = optimize.minimize(negative_log_likelihood, initial_params, args=(data,), method='BFGS')\n",
    "estimated_params = result.x\n",
    "\n",
    "print(\"Estimated Parameters (mean, std):\", estimated_params[0], jnp.exp(1e-3+estimated_params[1:]))\n",
    "expected_mean = 10;\n",
    "expected_deviation = np.sqrt((X - expected_mean)**2)\n",
    "print(\"Expected Parameters (mean, std):\", expected_mean, expected_deviation)\n",
    "print(\"Residuals:(mean, std):\", estimated_params[0]-expected_mean, np.abs(jnp.exp(1e-3+estimated_params[1:])-expected_deviation))"
   ]
  },
  {
   "attachments": {},
   "cell_type": "markdown",
   "metadata": {},
   "source": [
    "We learn the standard deviation on the log scale and mean on linear scale. The minimizer is found to be extremely sensitive to initialization. We found both zero and median initialization allowed for good results."
   ]
  }
 ],
 "metadata": {
  "kernelspec": {
   "display_name": "Python 3",
   "language": "python",
   "name": "python3"
  },
  "language_info": {
   "codemirror_mode": {
    "name": "ipython",
    "version": 3
   },
   "file_extension": ".py",
   "mimetype": "text/x-python",
   "name": "python",
   "nbconvert_exporter": "python",
   "pygments_lexer": "ipython3",
   "version": "3.10.0"
  }
 },
 "nbformat": 4,
 "nbformat_minor": 2
}
